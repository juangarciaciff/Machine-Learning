{
 "cells": [
  {
   "cell_type": "markdown",
   "metadata": {},
   "source": [
    "# Ejercicios Aprendizaje Automático - 2."
   ]
  },
  {
   "cell_type": "markdown",
   "metadata": {},
   "source": [
    "***\n",
    "- Autor: Juan A. García Cuevas\n",
    "- Fecha: 06/12/2016\n",
    "***"
   ]
  },
  {
   "cell_type": "markdown",
   "metadata": {},
   "source": [
    "## Librerías principales y configuración."
   ]
  },
  {
   "cell_type": "code",
   "execution_count": 1,
   "metadata": {
    "collapsed": false
   },
   "outputs": [
    {
     "name": "stdout",
     "output_type": "stream",
     "text": [
      "Using matplotlib backend: Qt4Agg\n",
      "Populating the interactive namespace from numpy and matplotlib\n"
     ]
    }
   ],
   "source": [
    "# Importamos librerías generales\n",
    "import pandas as pd\n",
    "\n",
    "# Activamos los graficos embebidos y configuramos el tamaño\n",
    "%pylab\n",
    "%matplotlib inline \n",
    "from matplotlib.pylab import rcParams\n",
    "rcParams['figure.figsize'] = 15, 6"
   ]
  },
  {
   "cell_type": "markdown",
   "metadata": {},
   "source": [
    "***\n",
    "# 1. Segmentación de datos de redes sociales.\n",
    "***\n",
    "\n",
    "## Enunciado.\n",
    "\n",
    "En el archivo “snsdata.csv” se encuentra los términos más utilizados en unos 30.000 perfiles aleatorios de adolescentes de una red social.\n",
    "- Importar el archivo.\n",
    "- Separar el conjunto de datos en dos según el género de los usuarios (F y M).\n",
    "- En cada uno de los subconjuntos de datos eliminar el año de graduación ('gradyear'), el género ('gender') y la edad (‘age’).\n",
    "- Utilizando el algoritmo de k-means identificar el número de segmentos óptimos en los que se divide cada subconjunto de datos y obtener los valores de los centroides."
   ]
  },
  {
   "cell_type": "markdown",
   "metadata": {
    "collapsed": true
   },
   "source": [
    "## 1.1 Cargamos los datos del fichero CSV."
   ]
  },
  {
   "cell_type": "code",
   "execution_count": 2,
   "metadata": {
    "collapsed": false
   },
   "outputs": [
    {
     "name": "stdout",
     "output_type": "stream",
     "text": [
      "- Los datos de perfiles se cargan en la variable: snsdata\n",
      "- La variable snsdata es de tipo: <class 'pandas.core.frame.DataFrame'>\n",
      "- La variable snsdata tiene 30000 filas (perfiles).\n",
      "- Columnas de la variable snsdata:\n",
      "     -  gradyear\n",
      "     -  gender\n",
      "     -  age\n",
      "     -  friends\n",
      "     -  basketball\n",
      "     -  football\n",
      "     -  soccer\n",
      "     -  softball\n",
      "     -  volleyball\n",
      "     -  swimming\n",
      "     -  cheerleading\n",
      "     -  baseball\n",
      "     -  tennis\n",
      "     -  sports\n",
      "     -  cute\n",
      "     -  sex\n",
      "     -  sexy\n",
      "     -  hot\n",
      "     -  kissed\n",
      "     -  dance\n",
      "     -  band\n",
      "     -  marching\n",
      "     -  music\n",
      "     -  rock\n",
      "     -  god\n",
      "     -  church\n",
      "     -  jesus\n",
      "     -  bible\n",
      "     -  hair\n",
      "     -  dress\n",
      "     -  blonde\n",
      "     -  mall\n",
      "     -  shopping\n",
      "     -  clothes\n",
      "     -  hollister\n",
      "     -  abercrombie\n",
      "     -  die\n",
      "     -  death\n",
      "     -  drunk\n",
      "     -  drugs\n",
      "\n",
      "- Primeras filas de datos:\n"
     ]
    },
    {
     "data": {
      "text/html": [
       "<div>\n",
       "<table border=\"1\" class=\"dataframe\">\n",
       "  <thead>\n",
       "    <tr style=\"text-align: right;\">\n",
       "      <th></th>\n",
       "      <th>gradyear</th>\n",
       "      <th>gender</th>\n",
       "      <th>age</th>\n",
       "      <th>friends</th>\n",
       "      <th>basketball</th>\n",
       "      <th>football</th>\n",
       "      <th>soccer</th>\n",
       "      <th>softball</th>\n",
       "      <th>volleyball</th>\n",
       "      <th>swimming</th>\n",
       "      <th>...</th>\n",
       "      <th>blonde</th>\n",
       "      <th>mall</th>\n",
       "      <th>shopping</th>\n",
       "      <th>clothes</th>\n",
       "      <th>hollister</th>\n",
       "      <th>abercrombie</th>\n",
       "      <th>die</th>\n",
       "      <th>death</th>\n",
       "      <th>drunk</th>\n",
       "      <th>drugs</th>\n",
       "    </tr>\n",
       "  </thead>\n",
       "  <tbody>\n",
       "    <tr>\n",
       "      <th>0</th>\n",
       "      <td>2006</td>\n",
       "      <td>M</td>\n",
       "      <td>18.982</td>\n",
       "      <td>7</td>\n",
       "      <td>0</td>\n",
       "      <td>0</td>\n",
       "      <td>0</td>\n",
       "      <td>0</td>\n",
       "      <td>0</td>\n",
       "      <td>0</td>\n",
       "      <td>...</td>\n",
       "      <td>0</td>\n",
       "      <td>0</td>\n",
       "      <td>0</td>\n",
       "      <td>0</td>\n",
       "      <td>0</td>\n",
       "      <td>0</td>\n",
       "      <td>0</td>\n",
       "      <td>0</td>\n",
       "      <td>0</td>\n",
       "      <td>0</td>\n",
       "    </tr>\n",
       "    <tr>\n",
       "      <th>1</th>\n",
       "      <td>2006</td>\n",
       "      <td>F</td>\n",
       "      <td>18.801</td>\n",
       "      <td>0</td>\n",
       "      <td>0</td>\n",
       "      <td>1</td>\n",
       "      <td>0</td>\n",
       "      <td>0</td>\n",
       "      <td>0</td>\n",
       "      <td>0</td>\n",
       "      <td>...</td>\n",
       "      <td>0</td>\n",
       "      <td>1</td>\n",
       "      <td>0</td>\n",
       "      <td>0</td>\n",
       "      <td>0</td>\n",
       "      <td>0</td>\n",
       "      <td>0</td>\n",
       "      <td>0</td>\n",
       "      <td>0</td>\n",
       "      <td>0</td>\n",
       "    </tr>\n",
       "    <tr>\n",
       "      <th>2</th>\n",
       "      <td>2006</td>\n",
       "      <td>M</td>\n",
       "      <td>18.335</td>\n",
       "      <td>69</td>\n",
       "      <td>0</td>\n",
       "      <td>1</td>\n",
       "      <td>0</td>\n",
       "      <td>0</td>\n",
       "      <td>0</td>\n",
       "      <td>0</td>\n",
       "      <td>...</td>\n",
       "      <td>0</td>\n",
       "      <td>0</td>\n",
       "      <td>0</td>\n",
       "      <td>0</td>\n",
       "      <td>0</td>\n",
       "      <td>0</td>\n",
       "      <td>0</td>\n",
       "      <td>1</td>\n",
       "      <td>0</td>\n",
       "      <td>0</td>\n",
       "    </tr>\n",
       "    <tr>\n",
       "      <th>3</th>\n",
       "      <td>2006</td>\n",
       "      <td>F</td>\n",
       "      <td>18.875</td>\n",
       "      <td>0</td>\n",
       "      <td>0</td>\n",
       "      <td>0</td>\n",
       "      <td>0</td>\n",
       "      <td>0</td>\n",
       "      <td>0</td>\n",
       "      <td>0</td>\n",
       "      <td>...</td>\n",
       "      <td>0</td>\n",
       "      <td>0</td>\n",
       "      <td>0</td>\n",
       "      <td>0</td>\n",
       "      <td>0</td>\n",
       "      <td>0</td>\n",
       "      <td>0</td>\n",
       "      <td>0</td>\n",
       "      <td>0</td>\n",
       "      <td>0</td>\n",
       "    </tr>\n",
       "    <tr>\n",
       "      <th>4</th>\n",
       "      <td>2006</td>\n",
       "      <td>NaN</td>\n",
       "      <td>18.995</td>\n",
       "      <td>10</td>\n",
       "      <td>0</td>\n",
       "      <td>0</td>\n",
       "      <td>0</td>\n",
       "      <td>0</td>\n",
       "      <td>0</td>\n",
       "      <td>0</td>\n",
       "      <td>...</td>\n",
       "      <td>0</td>\n",
       "      <td>0</td>\n",
       "      <td>2</td>\n",
       "      <td>0</td>\n",
       "      <td>0</td>\n",
       "      <td>0</td>\n",
       "      <td>0</td>\n",
       "      <td>0</td>\n",
       "      <td>1</td>\n",
       "      <td>1</td>\n",
       "    </tr>\n",
       "  </tbody>\n",
       "</table>\n",
       "<p>5 rows × 40 columns</p>\n",
       "</div>"
      ],
      "text/plain": [
       "   gradyear gender     age  friends  basketball  football  soccer  softball  \\\n",
       "0      2006      M  18.982        7           0         0       0         0   \n",
       "1      2006      F  18.801        0           0         1       0         0   \n",
       "2      2006      M  18.335       69           0         1       0         0   \n",
       "3      2006      F  18.875        0           0         0       0         0   \n",
       "4      2006    NaN  18.995       10           0         0       0         0   \n",
       "\n",
       "   volleyball  swimming  ...    blonde  mall  shopping  clothes  hollister  \\\n",
       "0           0         0  ...         0     0         0        0          0   \n",
       "1           0         0  ...         0     1         0        0          0   \n",
       "2           0         0  ...         0     0         0        0          0   \n",
       "3           0         0  ...         0     0         0        0          0   \n",
       "4           0         0  ...         0     0         2        0          0   \n",
       "\n",
       "   abercrombie  die  death  drunk  drugs  \n",
       "0            0    0      0      0      0  \n",
       "1            0    0      0      0      0  \n",
       "2            0    0      1      0      0  \n",
       "3            0    0      0      0      0  \n",
       "4            0    0      0      1      1  \n",
       "\n",
       "[5 rows x 40 columns]"
      ]
     },
     "execution_count": 2,
     "metadata": {},
     "output_type": "execute_result"
    }
   ],
   "source": [
    "# Cargamos el fichero CSV con los datos de los perfiles\n",
    "snsdata = pd.read_csv('data2/snsdata.csv', sep=',')\n",
    "print '- Los datos de perfiles se cargan en la variable: snsdata'\n",
    "print '- La variable snsdata es de tipo:', type(snsdata)\n",
    "print '- La variable snsdata tiene', len(snsdata), \"filas (perfiles).\"\n",
    "print '- Columnas de la variable snsdata:'\n",
    "for label in snsdata.columns:\n",
    "    print '     - ', label\n",
    "print '\\n- Primeras filas de datos:'\n",
    "snsdata.head(5)"
   ]
  },
  {
   "cell_type": "markdown",
   "metadata": {},
   "source": [
    "## 1.2 Eliminamos las columnas correspondientes a año de graduación, género y edad.\n",
    "\n",
    "Creamos una nueva lista de nombres de columnas, en la que eliminamos año de graduación, género y edad."
   ]
  },
  {
   "cell_type": "code",
   "execution_count": 3,
   "metadata": {
    "collapsed": false
   },
   "outputs": [
    {
     "name": "stdout",
     "output_type": "stream",
     "text": [
      "\n",
      "- Columnas iniciales: ['gradyear', 'gender', 'age', 'friends', 'basketball', 'football', 'soccer', 'softball', 'volleyball', 'swimming', 'cheerleading', 'baseball', 'tennis', 'sports', 'cute', 'sex', 'sexy', 'hot', 'kissed', 'dance', 'band', 'marching', 'music', 'rock', 'god', 'church', 'jesus', 'bible', 'hair', 'dress', 'blonde', 'mall', 'shopping', 'clothes', 'hollister', 'abercrombie', 'die', 'death', 'drunk', 'drugs']\n",
      "\n",
      "- Nuevo conjunto de columnas: ['friends', 'basketball', 'football', 'soccer', 'softball', 'volleyball', 'swimming', 'cheerleading', 'baseball', 'tennis', 'sports', 'cute', 'sex', 'sexy', 'hot', 'kissed', 'dance', 'band', 'marching', 'music', 'rock', 'god', 'church', 'jesus', 'bible', 'hair', 'dress', 'blonde', 'mall', 'shopping', 'clothes', 'hollister', 'abercrombie', 'die', 'death', 'drunk', 'drugs']\n"
     ]
    }
   ],
   "source": [
    "newcols = list(snsdata.columns)\n",
    "print '\\n- Columnas iniciales:', newcols\n",
    "newcols.remove('gradyear')\n",
    "newcols.remove('gender')\n",
    "newcols.remove('age')\n",
    "print '\\n- Nuevo conjunto de columnas:', newcols"
   ]
  },
  {
   "cell_type": "markdown",
   "metadata": {},
   "source": [
    "## 1.3 Separamos los datos en dos dataframes por sexo.\n",
    "\n",
    "Separamos el conjunto de datos original en dos subconjuntos, uno por cada género, y filtramos según la nueva lista de nombres de columna."
   ]
  },
  {
   "cell_type": "code",
   "execution_count": 4,
   "metadata": {
    "collapsed": false
   },
   "outputs": [
    {
     "data": {
      "text/html": [
       "<div>\n",
       "<table border=\"1\" class=\"dataframe\">\n",
       "  <thead>\n",
       "    <tr style=\"text-align: right;\">\n",
       "      <th></th>\n",
       "      <th>friends</th>\n",
       "      <th>basketball</th>\n",
       "      <th>football</th>\n",
       "      <th>soccer</th>\n",
       "      <th>softball</th>\n",
       "      <th>volleyball</th>\n",
       "      <th>swimming</th>\n",
       "      <th>cheerleading</th>\n",
       "      <th>baseball</th>\n",
       "      <th>tennis</th>\n",
       "      <th>...</th>\n",
       "      <th>blonde</th>\n",
       "      <th>mall</th>\n",
       "      <th>shopping</th>\n",
       "      <th>clothes</th>\n",
       "      <th>hollister</th>\n",
       "      <th>abercrombie</th>\n",
       "      <th>die</th>\n",
       "      <th>death</th>\n",
       "      <th>drunk</th>\n",
       "      <th>drugs</th>\n",
       "    </tr>\n",
       "  </thead>\n",
       "  <tbody>\n",
       "    <tr>\n",
       "      <th>1</th>\n",
       "      <td>0</td>\n",
       "      <td>0</td>\n",
       "      <td>1</td>\n",
       "      <td>0</td>\n",
       "      <td>0</td>\n",
       "      <td>0</td>\n",
       "      <td>0</td>\n",
       "      <td>0</td>\n",
       "      <td>0</td>\n",
       "      <td>0</td>\n",
       "      <td>...</td>\n",
       "      <td>0</td>\n",
       "      <td>1</td>\n",
       "      <td>0</td>\n",
       "      <td>0</td>\n",
       "      <td>0</td>\n",
       "      <td>0</td>\n",
       "      <td>0</td>\n",
       "      <td>0</td>\n",
       "      <td>0</td>\n",
       "      <td>0</td>\n",
       "    </tr>\n",
       "    <tr>\n",
       "      <th>3</th>\n",
       "      <td>0</td>\n",
       "      <td>0</td>\n",
       "      <td>0</td>\n",
       "      <td>0</td>\n",
       "      <td>0</td>\n",
       "      <td>0</td>\n",
       "      <td>0</td>\n",
       "      <td>0</td>\n",
       "      <td>0</td>\n",
       "      <td>0</td>\n",
       "      <td>...</td>\n",
       "      <td>0</td>\n",
       "      <td>0</td>\n",
       "      <td>0</td>\n",
       "      <td>0</td>\n",
       "      <td>0</td>\n",
       "      <td>0</td>\n",
       "      <td>0</td>\n",
       "      <td>0</td>\n",
       "      <td>0</td>\n",
       "      <td>0</td>\n",
       "    </tr>\n",
       "    <tr>\n",
       "      <th>5</th>\n",
       "      <td>142</td>\n",
       "      <td>0</td>\n",
       "      <td>0</td>\n",
       "      <td>0</td>\n",
       "      <td>0</td>\n",
       "      <td>0</td>\n",
       "      <td>0</td>\n",
       "      <td>0</td>\n",
       "      <td>0</td>\n",
       "      <td>0</td>\n",
       "      <td>...</td>\n",
       "      <td>0</td>\n",
       "      <td>0</td>\n",
       "      <td>1</td>\n",
       "      <td>0</td>\n",
       "      <td>0</td>\n",
       "      <td>0</td>\n",
       "      <td>0</td>\n",
       "      <td>0</td>\n",
       "      <td>1</td>\n",
       "      <td>0</td>\n",
       "    </tr>\n",
       "    <tr>\n",
       "      <th>6</th>\n",
       "      <td>72</td>\n",
       "      <td>0</td>\n",
       "      <td>0</td>\n",
       "      <td>0</td>\n",
       "      <td>0</td>\n",
       "      <td>0</td>\n",
       "      <td>0</td>\n",
       "      <td>0</td>\n",
       "      <td>0</td>\n",
       "      <td>0</td>\n",
       "      <td>...</td>\n",
       "      <td>0</td>\n",
       "      <td>2</td>\n",
       "      <td>0</td>\n",
       "      <td>0</td>\n",
       "      <td>2</td>\n",
       "      <td>0</td>\n",
       "      <td>0</td>\n",
       "      <td>0</td>\n",
       "      <td>0</td>\n",
       "      <td>0</td>\n",
       "    </tr>\n",
       "    <tr>\n",
       "      <th>8</th>\n",
       "      <td>52</td>\n",
       "      <td>0</td>\n",
       "      <td>0</td>\n",
       "      <td>0</td>\n",
       "      <td>0</td>\n",
       "      <td>0</td>\n",
       "      <td>0</td>\n",
       "      <td>0</td>\n",
       "      <td>0</td>\n",
       "      <td>0</td>\n",
       "      <td>...</td>\n",
       "      <td>0</td>\n",
       "      <td>0</td>\n",
       "      <td>0</td>\n",
       "      <td>0</td>\n",
       "      <td>0</td>\n",
       "      <td>0</td>\n",
       "      <td>0</td>\n",
       "      <td>0</td>\n",
       "      <td>0</td>\n",
       "      <td>0</td>\n",
       "    </tr>\n",
       "  </tbody>\n",
       "</table>\n",
       "<p>5 rows × 37 columns</p>\n",
       "</div>"
      ],
      "text/plain": [
       "   friends  basketball  football  soccer  softball  volleyball  swimming  \\\n",
       "1        0           0         1       0         0           0         0   \n",
       "3        0           0         0       0         0           0         0   \n",
       "5      142           0         0       0         0           0         0   \n",
       "6       72           0         0       0         0           0         0   \n",
       "8       52           0         0       0         0           0         0   \n",
       "\n",
       "   cheerleading  baseball  tennis  ...    blonde  mall  shopping  clothes  \\\n",
       "1             0         0       0  ...         0     1         0        0   \n",
       "3             0         0       0  ...         0     0         0        0   \n",
       "5             0         0       0  ...         0     0         1        0   \n",
       "6             0         0       0  ...         0     2         0        0   \n",
       "8             0         0       0  ...         0     0         0        0   \n",
       "\n",
       "   hollister  abercrombie  die  death  drunk  drugs  \n",
       "1          0            0    0      0      0      0  \n",
       "3          0            0    0      0      0      0  \n",
       "5          0            0    0      0      1      0  \n",
       "6          2            0    0      0      0      0  \n",
       "8          0            0    0      0      0      0  \n",
       "\n",
       "[5 rows x 37 columns]"
      ]
     },
     "execution_count": 4,
     "metadata": {},
     "output_type": "execute_result"
    }
   ],
   "source": [
    "snsdataF = snsdata[snsdata.gender == 'F']\n",
    "snsdataM = snsdata[snsdata.gender == 'M']\n",
    "snsdataF = snsdataF[newcols]\n",
    "snsdataM = snsdataM[newcols]\n",
    "snsdataF.head()"
   ]
  },
  {
   "cell_type": "markdown",
   "metadata": {},
   "source": [
    "## 1.4 Con k-means determinamos segmentación, centroides..."
   ]
  },
  {
   "cell_type": "markdown",
   "metadata": {},
   "source": [
    "**K-means** es un método de agrupamiento, utilizado en minería de datos, cuyo objetivo es la dividir un un conjunto de **n** observaciones en **k** grupos, en el que cada observación pertenezca al grupo cuyo valor medio es el más cercano.\n",
    "\n",
    "En primer lugar obtenemos el número de clusters para cada grupo."
   ]
  },
  {
   "cell_type": "code",
   "execution_count": null,
   "metadata": {
    "collapsed": false
   },
   "outputs": [],
   "source": [
    "# Importamos librerías\n",
    "from sklearn.cluster import KMeans\n",
    "from sklearn.metrics import silhouette_score\n",
    "from scipy.spatial.distance import cdist\n",
    "\n",
    "# Asignamos inicialmente el número máximo de grupos\n",
    "maxK = 20\n",
    "\n",
    "# Iniciamos los datos de distorsiones promedio\n",
    "meandistF = []\n",
    "meandistM = []\n",
    "\n",
    "# Realizamos los cálculos\n",
    "for k in range(1, maxK):\n",
    "\n",
    "    kmeansF = KMeans(n_clusters = k, n_init = 10).fit(snsdataF)\n",
    "    meandistF.append(sum(np.min(cdist(snsdataF, kmeansF.cluster_centers_, 'euclidean'), axis = 1)) / snsdataF.shape[0])\n",
    "\n",
    "    kmeansM = KMeans(n_clusters = k, n_init = 10).fit(snsdataM)\n",
    "    meandistM.append(sum(np.min(cdist(snsdataM, kmeansM.cluster_centers_, 'euclidean'), axis = 1)) / snsdataM.shape[0])\n",
    "\n",
    "# Mostramos la gráfica para los perfiles femeninos\n",
    "plot(range(1, maxK), meandistF, 'rp-', label = ('Perfiles femeninos'))\n",
    "plot(range(1, maxK), meandistM, 'bp-', label = ('Perfiles masculinos'))\n",
    "xlabel(u'k (núm. grupos)')\n",
    "ylabel(u'Distorsión promedio')\n",
    "title('SNS')\n",
    "plt.legend()\n"
   ]
  },
  {
   "cell_type": "markdown",
   "metadata": {},
   "source": [
    "- Numero de clústers en el grupo femenino: **7**\n",
    "- Numero de clústers en el grupo masculino: **4**\n",
    "\n",
    "Ahora podemos obtener la posición de los centroides de cada grupo:"
   ]
  },
  {
   "cell_type": "code",
   "execution_count": null,
   "metadata": {
    "collapsed": false
   },
   "outputs": [],
   "source": [
    "# Centroides para el grupo de datos de perfiles femeninos\n",
    "kmeans = KMeans(n_clusters = 7, n_init = 10).fit(snsdataF)\n",
    "kmeans.cluster_centers_"
   ]
  },
  {
   "cell_type": "code",
   "execution_count": null,
   "metadata": {
    "collapsed": false
   },
   "outputs": [],
   "source": [
    "# Centroides para el grupo de datos de perfiles masculinos\n",
    "kmeans = KMeans(n_clusters = 4, n_init = 10).fit(snsdataM)\n",
    "kmeans.cluster_centers_"
   ]
  },
  {
   "cell_type": "markdown",
   "metadata": {},
   "source": [
    "***\n",
    "# 2. Componentes principales.\n",
    "***\n",
    "\n",
    "## Enunciado.\n",
    "\n",
    "En el archivo “concrete.csv” se encuentra los datos de diferentes mezclas de hormigón.\n",
    "- Utilizar el análisis de componentes principales y obtener el número de componentes principales con los que se puede explicar el 50%, 75% y 90% de la varianza.\n",
    "- Obtener el porcentaje de la varianza que explica la primera componente principal."
   ]
  },
  {
   "cell_type": "markdown",
   "metadata": {
    "collapsed": true
   },
   "source": [
    "## 2.1 Cargamos los datos del fichero CSV."
   ]
  },
  {
   "cell_type": "code",
   "execution_count": null,
   "metadata": {
    "collapsed": false
   },
   "outputs": [],
   "source": [
    "# Cargamos el fichero CSV con los datos de los mezclas de hormigón\n",
    "concrete = pd.read_csv('data2/concrete.csv', sep=',')\n",
    "print '- Los datos de perfiles se cargan en la variable: concrete'\n",
    "print '- La variable concrete es de tipo:', type(concrete)\n",
    "print '- La variable concrete tiene', len(concrete), \"filas (mezclas de hormigón).\"\n",
    "print '- Columnas de la variable concrete:'\n",
    "for label in concrete.columns:\n",
    "    print '     - ', label\n",
    "print '\\n- Primeras filas de datos:\\n'\n",
    "concrete.head(5)"
   ]
  },
  {
   "cell_type": "markdown",
   "metadata": {},
   "source": [
    "## 2.1 Análisis de Componentes Principales (PCA)"
   ]
  },
  {
   "cell_type": "markdown",
   "metadata": {},
   "source": [
    "La técnica de Análisis de Componentes Principales (PCA) se utiliza para reducir la dimensión (número de variables). Permite seleccionar las componentes que explican la mayor variabilidad.\n",
    "\n",
    "PCA calcula los vectores propios de la matriz de covarianza (ejes principales) y los ordena por sus autovalores (cantidad de varianza explicada)."
   ]
  },
  {
   "cell_type": "code",
   "execution_count": null,
   "metadata": {
    "collapsed": false
   },
   "outputs": [],
   "source": [
    "from sklearn.decomposition import PCA\n",
    "\n",
    "pca = PCA(n_components = None)\n",
    "pca.fit_transform(concrete)\n",
    "\n",
    "# Valores explicativos por componente\n",
    "print '\\n* Valores explicativos de las variables:\\n', pca.explained_variance_ratio_\n",
    "\n",
    "# Porcentaje de explicación de la varianza por compomente\n",
    "print u'\\n* Porcentaje de explicación de la varianza por componente:'\n",
    "for x in range(len(pca.explained_variance_ratio_)):\n",
    "    value = pca.explained_variance_ratio_[x] * 100\n",
    "    print '- La variable', str(x+1), 'explica el %2.2f%% de la varianza las mezclas.' % value\n",
    "\n",
    "# Nº de componentes y porcentaje de explicación de la varianza\n",
    "print u'\\n* Nº de componentes y porcentaje de explicación de la varianza:'\n",
    "cs = cumsum(pca.explained_variance_ratio_)\n",
    "for x in range(len(cs)):\n",
    "    txtvar = ' variable' + ('s' if x>0 else '')\n",
    "    txtexp = ' explica' + ('n' if x>0 else '')\n",
    "    print '- ' + str(x+1) + txtvar + txtexp + ' el %2.2f%% de la varianza las mezclas.' % (100.0 * cs[x])\n",
    "\n",
    "# Porcentaje de la varianza que explica la primera componente principal\n",
    "print '\\n* Porcentaje de la varianza que explica la primera componente principal:'\n",
    "print '- La primera componente principal explica el %2.2f%% de la varianza las mezclas.' % (100.0 * cs[0])\n",
    "\n",
    "# Nº de componentes principales con los que se puede explicar un X% de la varianza\n",
    "print u'\\n* Nº de componentes principales con los que se puede explicar un X% de la varianza:'\n",
    "for x in [50, 75, 90]:\n",
    "    txt = '- El ' + str(x)+ '% de la varianza de las mezclas puede explicarse con'\n",
    "    print txt, (cs > x/100.0).tolist().index(True) + 1,\"variables.\"\n"
   ]
  },
  {
   "cell_type": "markdown",
   "metadata": {},
   "source": [
    "***\n",
    "# 3. Regresión de una función con Theano\n",
    "***\n",
    "\n",
    "## Enunciado.\n",
    "\n",
    "Crear un conjunto de datos utilizando el siguiente código:\n",
    "```\n",
    "    trX = np.linspace(-1, 1, 101)\n",
    "    trY = np.linspace(-1, 1, 101)\n",
    "    for i in range(len(trY)):\n",
    "        trY[i] = math.log(1 + 0.5 * abs(trX[i])) + trX[i] / 3 + np.random.randn() * 0.033\n",
    "```\n",
    "Ahora utilizar Theano para obtener los parámetros w_0 y w_1 del siguiente modelo:\n",
    "\n",
    "$$ y = \\log(1 + w_0  |x|) + w_1  x, $$\n",
    "\n",
    "utilizando los datos generados anteriormente."
   ]
  },
  {
   "cell_type": "markdown",
   "metadata": {},
   "source": [
    "## 3.1 Resolución."
   ]
  },
  {
   "cell_type": "code",
   "execution_count": null,
   "metadata": {
    "collapsed": true
   },
   "outputs": [],
   "source": [
    "# Creamos el conjunto de datos\n",
    "trX = np.linspace(-1, 1, 101)\n",
    "trY = np.linspace(-1, 1, 101)\n",
    "for i in range(len(trY)):\n",
    "    trY[i] = math.log(1 + 0.5 * abs(trX[i])) + trX[i] / 3 + np.random.randn() * 0.033"
   ]
  },
  {
   "cell_type": "code",
   "execution_count": null,
   "metadata": {
    "collapsed": false
   },
   "outputs": [],
   "source": [
    "import theano\n",
    "import theano.tensor as T\n",
    "\n",
    "X = T.scalar()\n",
    "Y = T.scalar()\n",
    "\n",
    "# Modelo\n",
    "def model(X, w0, w1):\n",
    "    return T.log(1 + w0 * abs(X)) + w1 * X\n",
    "\n",
    "w0 = theano.shared(np.asarray(0., dtype=theano.config.floatX))\n",
    "w1 = theano.shared(np.asarray(0., dtype=theano.config.floatX))\n",
    "y = model(X, w0, w1)\n",
    "\n",
    "# Coste\n",
    "cost = T.mean(T.sqr(y - Y))\n",
    "\n",
    "# Gradientes\n",
    "gradient0 = T.grad(cost = cost, wrt = w0)\n",
    "gradient1 = T.grad(cost = cost, wrt = w1)\n",
    "updates = [[w0, w0 - gradient0 * 0.01], [w1, w1 - gradient1 * 0.01]]\n",
    "\n",
    "# Entrenamiento\n",
    "train = theano.function(inputs = [X, Y], outputs = cost, updates = updates)\n",
    "\n",
    "for i in range(10):\n",
    "    for x, y in zip(trX, trY):\n",
    "        train(x, y)\n",
    "    print '- Iteración', i, '-> w0 =', w0.get_value(), '\\t w1 =', w1.get_value()"
   ]
  },
  {
   "cell_type": "markdown",
   "metadata": {},
   "source": [
    "## Enlaces relacionados\n",
    "\n",
    "- [Deep Learning Tutorial](http://deeplearning.net/tutorial/deeplearning.pdf)\n",
    "- [Un ejemplo sencillo sobre Análisis de Componentes Principales (PCA, Principal Component Analysis)](https://dlegorreta.wordpress.com/2015/03/13/un-ejemplo-sencillo-sobre-analisis-de-componentes-principalespca-principal-components-analysis/)"
   ]
  },
  {
   "cell_type": "code",
   "execution_count": null,
   "metadata": {
    "collapsed": true
   },
   "outputs": [],
   "source": []
  }
 ],
 "metadata": {
  "anaconda-cloud": {},
  "kernelspec": {
   "display_name": "Python 2",
   "language": "python",
   "name": "python2"
  },
  "language_info": {
   "codemirror_mode": {
    "name": "ipython",
    "version": 2
   },
   "file_extension": ".py",
   "mimetype": "text/x-python",
   "name": "python",
   "nbconvert_exporter": "python",
   "pygments_lexer": "ipython2",
   "version": "2.7.11"
  }
 },
 "nbformat": 4,
 "nbformat_minor": 0
}
