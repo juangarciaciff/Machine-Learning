{
 "cells": [
  {
   "cell_type": "markdown",
   "metadata": {
    "collapsed": true
   },
   "source": [
    "# Ejercicios Aprendizaje Automático."
   ]
  },
  {
   "cell_type": "markdown",
   "metadata": {},
   "source": [
    "***\n",
    "- Autor: Juan A. García Cuevas\n",
    "- Fecha: 01/10/2016\n",
    "***"
   ]
  },
  {
   "cell_type": "markdown",
   "metadata": {},
   "source": [
    "## Librerías principales y configuración"
   ]
  },
  {
   "cell_type": "code",
   "execution_count": 1,
   "metadata": {
    "collapsed": false
   },
   "outputs": [
    {
     "name": "stdout",
     "output_type": "stream",
     "text": [
      "Using matplotlib backend: Qt4Agg\n",
      "Populating the interactive namespace from numpy and matplotlib\n"
     ]
    }
   ],
   "source": [
    "# Configuramos Jupyter para que los gráficos se incrusten en el notebook\n",
    "%pylab\n",
    "%matplotlib inline"
   ]
  },
  {
   "cell_type": "code",
   "execution_count": 2,
   "metadata": {
    "collapsed": false
   },
   "outputs": [],
   "source": [
    "# Importamos algunas librerías\n",
    "import numpy as np\n",
    "import pandas as pd\n",
    "import csv"
   ]
  },
  {
   "cell_type": "markdown",
   "metadata": {},
   "source": [
    "***\n",
    "# 1. Reglas de asociación\n",
    "***"
   ]
  },
  {
   "cell_type": "markdown",
   "metadata": {},
   "source": [
    "## Enunciado"
   ]
  },
  {
   "cell_type": "markdown",
   "metadata": {},
   "source": [
    "En el “groceries.csv” contiene las transacciones recogidas durante un mes en una tienda de comestibles. En cada una de las filas de este archivo se encuentran los artículos comprados de forma conjunta por los diferentes clientes. Obtener las lista de artículos que tiene un soporte mínimo de 0,15. Obtener también las reglas de asociación que se pueden deducir de este conjunto de datos con un soporte mínimo de 0,05 y confianza de 0,25."
   ]
  },
  {
   "cell_type": "markdown",
   "metadata": {},
   "source": [
    "## 1.2 Cargamos los datos del fichero CSV"
   ]
  },
  {
   "cell_type": "code",
   "execution_count": 3,
   "metadata": {
    "collapsed": false
   },
   "outputs": [
    {
     "name": "stdout",
     "output_type": "stream",
     "text": [
      "Los datos se cargan en la variable: groceries\n",
      "La variable titanic es de tipo:  <type 'list'>\n",
      "La variable titanic tiene 9835 filas (tickets).\n"
     ]
    },
    {
     "data": {
      "text/plain": [
       "[['citrus fruit', 'semi-finished bread', 'margarine', 'ready soups'],\n",
       " ['tropical fruit', 'yogurt', 'coffee'],\n",
       " ['whole milk'],\n",
       " ['pip fruit', 'yogurt', 'cream cheese ', 'meat spreads'],\n",
       " ['other vegetables',\n",
       "  'whole milk',\n",
       "  'condensed milk',\n",
       "  'long life bakery product'],\n",
       " ['whole milk', 'butter', 'yogurt', 'rice', 'abrasive cleaner'],\n",
       " ['rolls/buns'],\n",
       " ['other vegetables',\n",
       "  'UHT-milk',\n",
       "  'rolls/buns',\n",
       "  'bottled beer',\n",
       "  'liquor (appetizer)'],\n",
       " ['pot plants'],\n",
       " ['whole milk', 'cereals']]"
      ]
     },
     "execution_count": 3,
     "metadata": {},
     "output_type": "execute_result"
    }
   ],
   "source": [
    "# Cargamos el fichero CSV con los datos de tickets\n",
    "groceries = []\n",
    "groceries_file = csv.reader(open(\"data/groceries.csv\", \"rb\"))\n",
    "for row in groceries_file:\n",
    "    groceries.append(row)\n",
    "\n",
    "print 'Los datos se cargan en la variable: groceries'\n",
    "print 'La variable titanic es de tipo: ', type(groceries)\n",
    "print 'La variable titanic tiene', len(groceries), \"filas (tickets).\"\n",
    "groceries[:10]"
   ]
  },
  {
   "cell_type": "markdown",
   "metadata": {},
   "source": [
    "## 1.2 Obtenemos la lista de artículos que tiene un soporte mínimo de 0,15."
   ]
  },
  {
   "cell_type": "code",
   "execution_count": 4,
   "metadata": {
    "collapsed": false
   },
   "outputs": [
    {
     "name": "stdout",
     "output_type": "stream",
     "text": [
      "{soda}:  sup = 0.174\n",
      "{whole milk}:  sup = 0.256\n",
      "{other vegetables}:  sup = 0.193\n",
      "{rolls/buns}:  sup = 0.184\n"
     ]
    }
   ],
   "source": [
    "# Importamos la librería apriori.py (descargada previamente de la url sugerida en el enunciado del ejercicio)\n",
    "import apriori\n",
    "\n",
    "# Ejecutamos el algoritmo apriori para obtener los k-items frecuentes (F) y el soporte de cada uno de ellos\n",
    "F, soporte = apriori.apriori(groceries, min_support=0.15, verbose=True)"
   ]
  },
  {
   "cell_type": "markdown",
   "metadata": {},
   "source": [
    "Como vemos, los articulos que aparecen en un 15% de los tickets (soporte de 0,15) son :soda, whole Milk, other vegetables y rolls/buns."
   ]
  },
  {
   "cell_type": "markdown",
   "metadata": {},
   "source": [
    "## 1.3 Obtenemos las reglas de asociación que se pueden deducir de este conjunto de datos con un soporte mínimo de 0,05 y confianza de 0,25."
   ]
  },
  {
   "cell_type": "code",
   "execution_count": 5,
   "metadata": {
    "collapsed": false
   },
   "outputs": [
    {
     "name": "stdout",
     "output_type": "stream",
     "text": [
      "{citrus fruit}:  sup = 0.083\n",
      "{curd}:  sup = 0.053\n",
      "{root vegetables}:  sup = 0.109\n",
      "{shopping bags}:  sup = 0.099\n",
      "{bottled beer}:  sup = 0.081\n",
      "{butter}:  sup = 0.055\n",
      "{newspapers}:  sup = 0.08\n",
      "{napkins}:  sup = 0.052\n",
      "{pip fruit}:  sup = 0.076\n",
      "{domestic eggs}:  sup = 0.063\n",
      "{bottled water}:  sup = 0.111\n",
      "{tropical fruit}:  sup = 0.105\n",
      "{soda}:  sup = 0.174\n",
      "{whole milk}:  sup = 0.256\n",
      "{other vegetables}:  sup = 0.193\n",
      "{canned beer}:  sup = 0.078\n",
      "{frankfurter}:  sup = 0.059\n",
      "{sausage}:  sup = 0.094\n",
      "{yogurt}:  sup = 0.14\n",
      "{pastry}:  sup = 0.089\n",
      "{margarine}:  sup = 0.059\n",
      "{coffee}:  sup = 0.058\n",
      "{brown bread}:  sup = 0.065\n",
      "{fruit/vegetable juice}:  sup = 0.072\n",
      "{whipped/sour cream}:  sup = 0.072\n",
      "{pork}:  sup = 0.058\n",
      "{rolls/buns}:  sup = 0.184\n",
      "{beef}:  sup = 0.052\n",
      "{whole milk, yogurt}:  sup = 0.056\n",
      "{whole milk, rolls/buns}:  sup = 0.057\n",
      "{whole milk, other vegetables}:  sup = 0.075\n"
     ]
    }
   ],
   "source": [
    "# Primero calculamos el soporte mínimo de 0,05\n",
    "F, soporte = apriori.apriori(groceries, min_support=0.05, verbose=True)"
   ]
  },
  {
   "cell_type": "markdown",
   "metadata": {},
   "source": [
    "En la lista anterior se muestran los artículos y grupos de artículos que aparecen en más del 5% de los tickets. Como vemos, son muy pocas las combinaciones de más de un artículo, tan solo la leche, que es el artículo más comprado con el 25,6% de las veces, aparece junto a otros artículos como yogourt, bollería y verduras. Con un soperte más bajo aparecerían más artículos y combinaciones."
   ]
  },
  {
   "cell_type": "code",
   "execution_count": 6,
   "metadata": {
    "collapsed": false
   },
   "outputs": [
    {
     "name": "stdout",
     "output_type": "stream",
     "text": [
      "{yogurt} ---> {whole milk}:  conf = 0.402, sup = 0.056\n",
      "{rolls/buns} ---> {whole milk}:  conf = 0.308, sup = 0.057\n",
      "{other vegetables} ---> {whole milk}:  conf = 0.387, sup = 0.075\n",
      "{whole milk} ---> {other vegetables}:  conf = 0.293, sup = 0.075\n"
     ]
    }
   ],
   "source": [
    "# A continuación calculamos las reglas de asociación con una confianza de 0,25.\n",
    "H1 = apriori.generate_rules(F, soporte, min_confidence=0.25, verbose=True)"
   ]
  },
  {
   "cell_type": "markdown",
   "metadata": {},
   "source": [
    "De los datos podemos resolver lo siguiente:\n",
    "\n",
    "- Más del 40% de las veces que se compra yogurt también se compra leche, y aparece en el 5,6% de los tickets.\n",
    "- Casi el 31% de las veces que se compra bollería también se compra leche, y aparece en el 5,7% de los tickets.\n",
    "- Casi el 39% de las veces que se compra verdura también se compra leche, y aparece en el 7,5% de los tickets.\n",
    "- Más del 29% de las veces que se compra leche también se compra verdura, y aparece en el 7,5% de los tickets."
   ]
  },
  {
   "cell_type": "markdown",
   "metadata": {},
   "source": [
    "***\n",
    "# 2. Implementación de una regresión “stepwise” con eliminación hacia atrás\n",
    "***"
   ]
  },
  {
   "cell_type": "markdown",
   "metadata": {},
   "source": [
    "## Enunciado"
   ]
  },
  {
   "cell_type": "markdown",
   "metadata": {},
   "source": [
    "Utilizando como referencia el código del algoritmo “stepwise” con selección hacia adelante (Fordward Stepwise Regression) que se encuentra en el archivo “CIF005_02_06_Stepwise.ipynb” realizar una implementación del del algoritmo con eliminación hacia atrás (Backward Stepwise Regression). En este caso la selección de las variables se realiza empezando con un modelo que utiliza todas la variables disponibles para ir eliminando en cada paso la que produce el modelo menos significativo."
   ]
  },
  {
   "cell_type": "markdown",
   "metadata": {
    "collapsed": true
   },
   "source": [
    "## Fordward Stepwise Regression"
   ]
  },
  {
   "cell_type": "code",
   "execution_count": 8,
   "metadata": {
    "collapsed": false
   },
   "outputs": [],
   "source": [
    "def forward_regression(x, y):\n",
    "    # Obtencion del conjunto de datos para validación\n",
    "    x_train, x_test, y_train, y_test = train_test_split(x, y)\n",
    "\n",
    "    # Modelo para realizar los ajustes\n",
    "    model = LinearRegression()\n",
    "\n",
    "    # Variable para almacenar los índices de la lista de atributos usados\n",
    "    feature_list = list(x.columns)\n",
    "    feature_order = []\n",
    "    feature_error = []\n",
    "    feature_names = []\n",
    "\n",
    "    # Iteración sobre todas las variables\n",
    "    for i in range(len(feature_list)):\n",
    "        idx_try = [val for val in range(len(feature_list)) if val not in feature_order]\n",
    "        iter_error = []\n",
    "\n",
    "        for i_try in idx_try:\n",
    "            useRow = feature_order[:]\n",
    "            useRow.append(i_try)\n",
    "\n",
    "            use_train = x_train[x_train.columns[useRow]]\n",
    "            use_test = x_test[x_train.columns[useRow]]\n",
    "\n",
    "            model.fit(use_train, y_train)\n",
    "            rmsError = numpy.linalg.norm((y_test - model.predict(use_test)), 2)/sqrt(len(y_test))\n",
    "            iter_error.append(rmsError)\n",
    "\n",
    "        # Guardamos la posicion de la combinacion con el menor error\n",
    "        pos_best = numpy.argmin(iter_error)\n",
    "        \n",
    "        if len(feature_error) == 0 or (iter_error[pos_best] < feature_error[-1]):\n",
    "            feature_order.append(idx_try[pos_best])\n",
    "            feature_error.append(iter_error[pos_best])\n",
    "            feature_names.append(feature_list[idx_try[pos_best]])\n",
    "            print \"Paso\", len(feature_error), \"variable\", feature_list[idx_try[pos_best]], \"con RMS\", iter_error[pos_best]\n",
    "        else:\n",
    "            return\n",
    "#            return feature_names, feature_error, feature_names\n",
    "\n",
    "#    return feature_names, feature_order, feature_error"
   ]
  },
  {
   "cell_type": "markdown",
   "metadata": {
    "collapsed": true
   },
   "source": [
    "## Backward Stepwise Regression"
   ]
  },
  {
   "cell_type": "code",
   "execution_count": 9,
   "metadata": {
    "collapsed": false
   },
   "outputs": [],
   "source": [
    "def backward_regression(x, y):\n",
    "    # Obtencion del conjunto de datos para validación\n",
    "    x_train, x_test, y_train, y_test = train_test_split(x, y)\n",
    "\n",
    "    # Modelo para realizar los ajustes\n",
    "    model = LinearRegression()\n",
    "\n",
    "    feature_order = range(len(features))\n",
    "    feature_error = []\n",
    "    feature_range = []\n",
    "\n",
    "    for i in range(len(features)-1):\n",
    "        idx_try = [val for val in range(len(features)) if val in feature_order]\n",
    "        iter_error = []\n",
    "\n",
    "        for i_try in idx_try:\n",
    "            useRow = feature_order[:]\n",
    "            useRow.remove(i_try)\n",
    "\n",
    "            use_train = x_train[x_train.columns[useRow]]\n",
    "            use_test = x_test[x_train.columns[useRow]]\n",
    "\n",
    "            model.fit(use_train, y_train)\n",
    "            rmsError = numpy.linalg.norm((y_test - model.predict(use_test)), 2)/math.sqrt(len(y_test))\n",
    "            iter_error.append(rmsError)\n",
    "\n",
    "        pos_best = numpy.argmin(iter_error)\n",
    "        feature_order.remove(idx_try[pos_best])\n",
    "        feature_range.append(idx_try[pos_best])\n",
    "        feature_error.append(iter_error[pos_best])\n",
    "\n",
    "    for i in range(len(features)-1):\n",
    "        print \"En el paso\", i, \"se ha eliminado la varible\", features[feature_range[i]], \"con un error\", feature_error[i]"
   ]
  },
  {
   "cell_type": "markdown",
   "metadata": {
    "collapsed": true
   },
   "source": [
    "Para probar las dos funciones de regresión cargaremos el conjunto de datos de calidad de los vinos utilizado en clase."
   ]
  },
  {
   "cell_type": "code",
   "execution_count": 10,
   "metadata": {
    "collapsed": false
   },
   "outputs": [
    {
     "data": {
      "text/html": [
       "<div>\n",
       "<table border=\"1\" class=\"dataframe\">\n",
       "  <thead>\n",
       "    <tr style=\"text-align: right;\">\n",
       "      <th></th>\n",
       "      <th>fixed acidity</th>\n",
       "      <th>volatile acidity</th>\n",
       "      <th>citric acid</th>\n",
       "      <th>residual sugar</th>\n",
       "      <th>chlorides</th>\n",
       "      <th>free sulfur dioxide</th>\n",
       "      <th>total sulfur dioxide</th>\n",
       "      <th>density</th>\n",
       "      <th>pH</th>\n",
       "      <th>sulphates</th>\n",
       "      <th>alcohol</th>\n",
       "      <th>quality</th>\n",
       "    </tr>\n",
       "  </thead>\n",
       "  <tbody>\n",
       "    <tr>\n",
       "      <th>count</th>\n",
       "      <td>4898.000000</td>\n",
       "      <td>4898.000000</td>\n",
       "      <td>4898.000000</td>\n",
       "      <td>4898.000000</td>\n",
       "      <td>4898.000000</td>\n",
       "      <td>4898.000000</td>\n",
       "      <td>4898.000000</td>\n",
       "      <td>4898.000000</td>\n",
       "      <td>4898.000000</td>\n",
       "      <td>4898.000000</td>\n",
       "      <td>4898.000000</td>\n",
       "      <td>4898.000000</td>\n",
       "    </tr>\n",
       "    <tr>\n",
       "      <th>mean</th>\n",
       "      <td>6.854788</td>\n",
       "      <td>0.278241</td>\n",
       "      <td>0.334192</td>\n",
       "      <td>6.391415</td>\n",
       "      <td>0.045772</td>\n",
       "      <td>35.308085</td>\n",
       "      <td>138.360657</td>\n",
       "      <td>0.994027</td>\n",
       "      <td>3.188267</td>\n",
       "      <td>0.489847</td>\n",
       "      <td>10.514267</td>\n",
       "      <td>5.877909</td>\n",
       "    </tr>\n",
       "    <tr>\n",
       "      <th>std</th>\n",
       "      <td>0.843868</td>\n",
       "      <td>0.100795</td>\n",
       "      <td>0.121020</td>\n",
       "      <td>5.072058</td>\n",
       "      <td>0.021848</td>\n",
       "      <td>17.007137</td>\n",
       "      <td>42.498065</td>\n",
       "      <td>0.002991</td>\n",
       "      <td>0.151001</td>\n",
       "      <td>0.114126</td>\n",
       "      <td>1.230621</td>\n",
       "      <td>0.885639</td>\n",
       "    </tr>\n",
       "    <tr>\n",
       "      <th>min</th>\n",
       "      <td>3.800000</td>\n",
       "      <td>0.080000</td>\n",
       "      <td>0.000000</td>\n",
       "      <td>0.600000</td>\n",
       "      <td>0.009000</td>\n",
       "      <td>2.000000</td>\n",
       "      <td>9.000000</td>\n",
       "      <td>0.987110</td>\n",
       "      <td>2.720000</td>\n",
       "      <td>0.220000</td>\n",
       "      <td>8.000000</td>\n",
       "      <td>3.000000</td>\n",
       "    </tr>\n",
       "    <tr>\n",
       "      <th>25%</th>\n",
       "      <td>6.300000</td>\n",
       "      <td>0.210000</td>\n",
       "      <td>0.270000</td>\n",
       "      <td>1.700000</td>\n",
       "      <td>0.036000</td>\n",
       "      <td>23.000000</td>\n",
       "      <td>108.000000</td>\n",
       "      <td>0.991723</td>\n",
       "      <td>3.090000</td>\n",
       "      <td>0.410000</td>\n",
       "      <td>9.500000</td>\n",
       "      <td>5.000000</td>\n",
       "    </tr>\n",
       "    <tr>\n",
       "      <th>50%</th>\n",
       "      <td>6.800000</td>\n",
       "      <td>0.260000</td>\n",
       "      <td>0.320000</td>\n",
       "      <td>5.200000</td>\n",
       "      <td>0.043000</td>\n",
       "      <td>34.000000</td>\n",
       "      <td>134.000000</td>\n",
       "      <td>0.993740</td>\n",
       "      <td>3.180000</td>\n",
       "      <td>0.470000</td>\n",
       "      <td>10.400000</td>\n",
       "      <td>6.000000</td>\n",
       "    </tr>\n",
       "    <tr>\n",
       "      <th>75%</th>\n",
       "      <td>7.300000</td>\n",
       "      <td>0.320000</td>\n",
       "      <td>0.390000</td>\n",
       "      <td>9.900000</td>\n",
       "      <td>0.050000</td>\n",
       "      <td>46.000000</td>\n",
       "      <td>167.000000</td>\n",
       "      <td>0.996100</td>\n",
       "      <td>3.280000</td>\n",
       "      <td>0.550000</td>\n",
       "      <td>11.400000</td>\n",
       "      <td>6.000000</td>\n",
       "    </tr>\n",
       "    <tr>\n",
       "      <th>max</th>\n",
       "      <td>14.200000</td>\n",
       "      <td>1.100000</td>\n",
       "      <td>1.660000</td>\n",
       "      <td>65.800000</td>\n",
       "      <td>0.346000</td>\n",
       "      <td>289.000000</td>\n",
       "      <td>440.000000</td>\n",
       "      <td>1.038980</td>\n",
       "      <td>3.820000</td>\n",
       "      <td>1.080000</td>\n",
       "      <td>14.200000</td>\n",
       "      <td>9.000000</td>\n",
       "    </tr>\n",
       "  </tbody>\n",
       "</table>\n",
       "</div>"
      ],
      "text/plain": [
       "       fixed acidity  volatile acidity  citric acid  residual sugar  \\\n",
       "count    4898.000000       4898.000000  4898.000000     4898.000000   \n",
       "mean        6.854788          0.278241     0.334192        6.391415   \n",
       "std         0.843868          0.100795     0.121020        5.072058   \n",
       "min         3.800000          0.080000     0.000000        0.600000   \n",
       "25%         6.300000          0.210000     0.270000        1.700000   \n",
       "50%         6.800000          0.260000     0.320000        5.200000   \n",
       "75%         7.300000          0.320000     0.390000        9.900000   \n",
       "max        14.200000          1.100000     1.660000       65.800000   \n",
       "\n",
       "         chlorides  free sulfur dioxide  total sulfur dioxide      density  \\\n",
       "count  4898.000000          4898.000000           4898.000000  4898.000000   \n",
       "mean      0.045772            35.308085            138.360657     0.994027   \n",
       "std       0.021848            17.007137             42.498065     0.002991   \n",
       "min       0.009000             2.000000              9.000000     0.987110   \n",
       "25%       0.036000            23.000000            108.000000     0.991723   \n",
       "50%       0.043000            34.000000            134.000000     0.993740   \n",
       "75%       0.050000            46.000000            167.000000     0.996100   \n",
       "max       0.346000           289.000000            440.000000     1.038980   \n",
       "\n",
       "                pH    sulphates      alcohol      quality  \n",
       "count  4898.000000  4898.000000  4898.000000  4898.000000  \n",
       "mean      3.188267     0.489847    10.514267     5.877909  \n",
       "std       0.151001     0.114126     1.230621     0.885639  \n",
       "min       2.720000     0.220000     8.000000     3.000000  \n",
       "25%       3.090000     0.410000     9.500000     5.000000  \n",
       "50%       3.180000     0.470000    10.400000     6.000000  \n",
       "75%       3.280000     0.550000    11.400000     6.000000  \n",
       "max       3.820000     1.080000    14.200000     9.000000  "
      ]
     },
     "execution_count": 10,
     "metadata": {},
     "output_type": "execute_result"
    }
   ],
   "source": [
    "# Cargamos el fichero CSV con los datos de calidad de los vinos y mostramos algunos datos\n",
    "wine = pd.read_csv('data/winequality-white.csv', sep = ';')\n",
    "wine.describe()"
   ]
  },
  {
   "cell_type": "markdown",
   "metadata": {},
   "source": [
    "Preparamos los datos."
   ]
  },
  {
   "cell_type": "code",
   "execution_count": 11,
   "metadata": {
    "collapsed": false
   },
   "outputs": [],
   "source": [
    "from sklearn.linear_model import LinearRegression\n",
    "from sklearn.cross_validation import train_test_split\n",
    "\n",
    "# Separación de la variable objetivo y las explicativas\n",
    "target = 'quality'\n",
    "features = list(wine.columns)\n",
    "features.remove('quality')\n",
    "\n",
    "x = wine[features]\n",
    "y = wine[target]\n",
    "\n",
    "# Obtencion del conjunto de datos para validación\n",
    "x_train, x_test, y_train, y_test = train_test_split(x, y)"
   ]
  },
  {
   "cell_type": "markdown",
   "metadata": {},
   "source": [
    "Aplicamos la regresión fordware"
   ]
  },
  {
   "cell_type": "code",
   "execution_count": 12,
   "metadata": {
    "collapsed": false
   },
   "outputs": [
    {
     "name": "stdout",
     "output_type": "stream",
     "text": [
      "Paso 1 variable alcohol con RMS 0.802002064637\n",
      "Paso 2 variable volatile acidity con RMS 0.784081804977\n",
      "Paso 3 variable residual sugar con RMS 0.775448926678\n",
      "Paso 4 variable free sulfur dioxide con RMS 0.770387322571\n",
      "Paso 5 variable density con RMS 0.766066975382\n",
      "Paso 6 variable pH con RMS 0.761227929873\n",
      "Paso 7 variable sulphates con RMS 0.757536729268\n"
     ]
    }
   ],
   "source": [
    "forward_regression(x, y)  "
   ]
  },
  {
   "cell_type": "markdown",
   "metadata": {
    "collapsed": true
   },
   "source": [
    "Aplicamos ahorra la regresión backware."
   ]
  },
  {
   "cell_type": "code",
   "execution_count": 13,
   "metadata": {
    "collapsed": false
   },
   "outputs": [
    {
     "name": "stdout",
     "output_type": "stream",
     "text": [
      "En el paso 0 se ha eliminado la varible alcohol con un error 0.753591433716\n",
      "En el paso 1 se ha eliminado la varible chlorides con un error 0.753100964681\n",
      "En el paso 2 se ha eliminado la varible citric acid con un error 0.752727254083\n",
      "En el paso 3 se ha eliminado la varible total sulfur dioxide con un error 0.752655420545\n",
      "En el paso 4 se ha eliminado la varible free sulfur dioxide con un error 0.754547539519\n",
      "En el paso 5 se ha eliminado la varible sulphates con un error 0.760766151159\n",
      "En el paso 6 se ha eliminado la varible fixed acidity con un error 0.767994724846\n",
      "En el paso 7 se ha eliminado la varible pH con un error 0.774794112611\n",
      "En el paso 8 se ha eliminado la varible volatile acidity con un error 0.797705400684\n",
      "En el paso 9 se ha eliminado la varible residual sugar con un error 0.837931032704\n"
     ]
    }
   ],
   "source": [
    "backward_regression(x, y)  "
   ]
  },
  {
   "cell_type": "markdown",
   "metadata": {},
   "source": [
    "***\n",
    "# 3 Estimación de la supervivencia de los pasajeros del Titanic.\n",
    "***"
   ]
  },
  {
   "cell_type": "markdown",
   "metadata": {},
   "source": [
    "## Enunciado"
   ]
  },
  {
   "cell_type": "markdown",
   "metadata": {},
   "source": [
    "Utilizando los datos del archivo “titanic.csv”, que contienen información del pasaje del Titanic, para la creación de un modelo que pueda predecir si un pasajero sobrevive al hundimiento del barco en el momento de embarque. Para esto se han de seleccionar la variables con mayor capacidad de predicción."
   ]
  },
  {
   "cell_type": "markdown",
   "metadata": {},
   "source": [
    "Para la creación del modelo no se pueden utilizar las variables “boat” ni “body” ya que estas contienen información posterior al momento del embarque."
   ]
  },
  {
   "cell_type": "markdown",
   "metadata": {},
   "source": [
    "En el conjunto de datos existes valores NaN en las columnas “age” y “fare”, para eliminar las filas con estos valores se puede utilizar el siguiente comando:"
   ]
  },
  {
   "cell_type": "markdown",
   "metadata": {},
   "source": [
    "    mask = titanic[['age', 'fare']].applymap(lambda x: math.isnan(x))\n",
    "    titanic = titanic[-mask.any(axis = 1)]"
   ]
  },
  {
   "cell_type": "markdown",
   "metadata": {},
   "source": [
    "## 3.1 Carga de datos del fichero CSV"
   ]
  },
  {
   "cell_type": "code",
   "execution_count": 14,
   "metadata": {
    "collapsed": false
   },
   "outputs": [
    {
     "name": "stdout",
     "output_type": "stream",
     "text": [
      "Los datos se cargan en la variable: titanic\n",
      "La variable titanic es de tipo:  <class 'pandas.core.frame.DataFrame'>\n",
      "La variable titanic tiene 1309 filas (pasajeros).\n"
     ]
    },
    {
     "data": {
      "text/html": [
       "<div>\n",
       "<table border=\"1\" class=\"dataframe\">\n",
       "  <thead>\n",
       "    <tr style=\"text-align: right;\">\n",
       "      <th></th>\n",
       "      <th>pclass</th>\n",
       "      <th>survived</th>\n",
       "      <th>name</th>\n",
       "      <th>sex</th>\n",
       "      <th>age</th>\n",
       "      <th>sibsp</th>\n",
       "      <th>parch</th>\n",
       "      <th>ticket</th>\n",
       "      <th>fare</th>\n",
       "      <th>cabin</th>\n",
       "      <th>embarked</th>\n",
       "      <th>boat</th>\n",
       "      <th>body</th>\n",
       "      <th>home.dest</th>\n",
       "    </tr>\n",
       "  </thead>\n",
       "  <tbody>\n",
       "    <tr>\n",
       "      <th>0</th>\n",
       "      <td>1</td>\n",
       "      <td>1</td>\n",
       "      <td>Allen, Miss. Elisabeth Walton</td>\n",
       "      <td>female</td>\n",
       "      <td>29.00</td>\n",
       "      <td>0</td>\n",
       "      <td>0</td>\n",
       "      <td>24160</td>\n",
       "      <td>211.3375</td>\n",
       "      <td>B5</td>\n",
       "      <td>S</td>\n",
       "      <td>2</td>\n",
       "      <td>NaN</td>\n",
       "      <td>St Louis, MO</td>\n",
       "    </tr>\n",
       "    <tr>\n",
       "      <th>1</th>\n",
       "      <td>1</td>\n",
       "      <td>1</td>\n",
       "      <td>Allison, Master. Hudson Trevor</td>\n",
       "      <td>male</td>\n",
       "      <td>0.92</td>\n",
       "      <td>1</td>\n",
       "      <td>2</td>\n",
       "      <td>113781</td>\n",
       "      <td>151.5500</td>\n",
       "      <td>C22 C26</td>\n",
       "      <td>S</td>\n",
       "      <td>11</td>\n",
       "      <td>NaN</td>\n",
       "      <td>Montreal, PQ / Chesterville, ON</td>\n",
       "    </tr>\n",
       "    <tr>\n",
       "      <th>2</th>\n",
       "      <td>1</td>\n",
       "      <td>0</td>\n",
       "      <td>Allison, Miss. Helen Loraine</td>\n",
       "      <td>female</td>\n",
       "      <td>2.00</td>\n",
       "      <td>1</td>\n",
       "      <td>2</td>\n",
       "      <td>113781</td>\n",
       "      <td>151.5500</td>\n",
       "      <td>C22 C26</td>\n",
       "      <td>S</td>\n",
       "      <td>NaN</td>\n",
       "      <td>NaN</td>\n",
       "      <td>Montreal, PQ / Chesterville, ON</td>\n",
       "    </tr>\n",
       "    <tr>\n",
       "      <th>3</th>\n",
       "      <td>1</td>\n",
       "      <td>0</td>\n",
       "      <td>Allison, Mr. Hudson Joshua Creighton</td>\n",
       "      <td>male</td>\n",
       "      <td>30.00</td>\n",
       "      <td>1</td>\n",
       "      <td>2</td>\n",
       "      <td>113781</td>\n",
       "      <td>151.5500</td>\n",
       "      <td>C22 C26</td>\n",
       "      <td>S</td>\n",
       "      <td>NaN</td>\n",
       "      <td>135.0</td>\n",
       "      <td>Montreal, PQ / Chesterville, ON</td>\n",
       "    </tr>\n",
       "    <tr>\n",
       "      <th>4</th>\n",
       "      <td>1</td>\n",
       "      <td>0</td>\n",
       "      <td>Allison, Mrs. Hudson J C (Bessie Waldo Daniels)</td>\n",
       "      <td>female</td>\n",
       "      <td>25.00</td>\n",
       "      <td>1</td>\n",
       "      <td>2</td>\n",
       "      <td>113781</td>\n",
       "      <td>151.5500</td>\n",
       "      <td>C22 C26</td>\n",
       "      <td>S</td>\n",
       "      <td>NaN</td>\n",
       "      <td>NaN</td>\n",
       "      <td>Montreal, PQ / Chesterville, ON</td>\n",
       "    </tr>\n",
       "    <tr>\n",
       "      <th>5</th>\n",
       "      <td>1</td>\n",
       "      <td>1</td>\n",
       "      <td>Anderson, Mr. Harry</td>\n",
       "      <td>male</td>\n",
       "      <td>48.00</td>\n",
       "      <td>0</td>\n",
       "      <td>0</td>\n",
       "      <td>19952</td>\n",
       "      <td>26.5500</td>\n",
       "      <td>E12</td>\n",
       "      <td>S</td>\n",
       "      <td>3</td>\n",
       "      <td>NaN</td>\n",
       "      <td>New York, NY</td>\n",
       "    </tr>\n",
       "    <tr>\n",
       "      <th>6</th>\n",
       "      <td>1</td>\n",
       "      <td>1</td>\n",
       "      <td>Andrews, Miss. Kornelia Theodosia</td>\n",
       "      <td>female</td>\n",
       "      <td>63.00</td>\n",
       "      <td>1</td>\n",
       "      <td>0</td>\n",
       "      <td>13502</td>\n",
       "      <td>77.9583</td>\n",
       "      <td>D7</td>\n",
       "      <td>S</td>\n",
       "      <td>10</td>\n",
       "      <td>NaN</td>\n",
       "      <td>Hudson, NY</td>\n",
       "    </tr>\n",
       "    <tr>\n",
       "      <th>7</th>\n",
       "      <td>1</td>\n",
       "      <td>0</td>\n",
       "      <td>Andrews, Mr. Thomas Jr</td>\n",
       "      <td>male</td>\n",
       "      <td>39.00</td>\n",
       "      <td>0</td>\n",
       "      <td>0</td>\n",
       "      <td>112050</td>\n",
       "      <td>0.0000</td>\n",
       "      <td>A36</td>\n",
       "      <td>S</td>\n",
       "      <td>NaN</td>\n",
       "      <td>NaN</td>\n",
       "      <td>Belfast, NI</td>\n",
       "    </tr>\n",
       "    <tr>\n",
       "      <th>8</th>\n",
       "      <td>1</td>\n",
       "      <td>1</td>\n",
       "      <td>Appleton, Mrs. Edward Dale (Charlotte Lamson)</td>\n",
       "      <td>female</td>\n",
       "      <td>53.00</td>\n",
       "      <td>2</td>\n",
       "      <td>0</td>\n",
       "      <td>11769</td>\n",
       "      <td>51.4792</td>\n",
       "      <td>C101</td>\n",
       "      <td>S</td>\n",
       "      <td>D</td>\n",
       "      <td>NaN</td>\n",
       "      <td>Bayside, Queens, NY</td>\n",
       "    </tr>\n",
       "    <tr>\n",
       "      <th>9</th>\n",
       "      <td>1</td>\n",
       "      <td>0</td>\n",
       "      <td>Artagaveytia, Mr. Ramon</td>\n",
       "      <td>male</td>\n",
       "      <td>71.00</td>\n",
       "      <td>0</td>\n",
       "      <td>0</td>\n",
       "      <td>PC 17609</td>\n",
       "      <td>49.5042</td>\n",
       "      <td>NaN</td>\n",
       "      <td>C</td>\n",
       "      <td>NaN</td>\n",
       "      <td>22.0</td>\n",
       "      <td>Montevideo, Uruguay</td>\n",
       "    </tr>\n",
       "  </tbody>\n",
       "</table>\n",
       "</div>"
      ],
      "text/plain": [
       "   pclass  survived                                             name     sex  \\\n",
       "0       1         1                    Allen, Miss. Elisabeth Walton  female   \n",
       "1       1         1                   Allison, Master. Hudson Trevor    male   \n",
       "2       1         0                     Allison, Miss. Helen Loraine  female   \n",
       "3       1         0             Allison, Mr. Hudson Joshua Creighton    male   \n",
       "4       1         0  Allison, Mrs. Hudson J C (Bessie Waldo Daniels)  female   \n",
       "5       1         1                              Anderson, Mr. Harry    male   \n",
       "6       1         1                Andrews, Miss. Kornelia Theodosia  female   \n",
       "7       1         0                           Andrews, Mr. Thomas Jr    male   \n",
       "8       1         1    Appleton, Mrs. Edward Dale (Charlotte Lamson)  female   \n",
       "9       1         0                          Artagaveytia, Mr. Ramon    male   \n",
       "\n",
       "     age  sibsp  parch    ticket      fare    cabin embarked boat   body  \\\n",
       "0  29.00      0      0     24160  211.3375       B5        S    2    NaN   \n",
       "1   0.92      1      2    113781  151.5500  C22 C26        S   11    NaN   \n",
       "2   2.00      1      2    113781  151.5500  C22 C26        S  NaN    NaN   \n",
       "3  30.00      1      2    113781  151.5500  C22 C26        S  NaN  135.0   \n",
       "4  25.00      1      2    113781  151.5500  C22 C26        S  NaN    NaN   \n",
       "5  48.00      0      0     19952   26.5500      E12        S    3    NaN   \n",
       "6  63.00      1      0     13502   77.9583       D7        S   10    NaN   \n",
       "7  39.00      0      0    112050    0.0000      A36        S  NaN    NaN   \n",
       "8  53.00      2      0     11769   51.4792     C101        S    D    NaN   \n",
       "9  71.00      0      0  PC 17609   49.5042      NaN        C  NaN   22.0   \n",
       "\n",
       "                         home.dest  \n",
       "0                     St Louis, MO  \n",
       "1  Montreal, PQ / Chesterville, ON  \n",
       "2  Montreal, PQ / Chesterville, ON  \n",
       "3  Montreal, PQ / Chesterville, ON  \n",
       "4  Montreal, PQ / Chesterville, ON  \n",
       "5                     New York, NY  \n",
       "6                       Hudson, NY  \n",
       "7                      Belfast, NI  \n",
       "8              Bayside, Queens, NY  \n",
       "9              Montevideo, Uruguay  "
      ]
     },
     "execution_count": 14,
     "metadata": {},
     "output_type": "execute_result"
    }
   ],
   "source": [
    "# Cargamos el fichero CSV con los datos de pasajeros del Titanic y mostramos algunos datos\n",
    "titanic = pd.read_csv(\"data/titanic.csv\", sep=\",\")\n",
    "print 'Los datos se cargan en la variable: titanic'\n",
    "print 'La variable titanic es de tipo: ', type(titanic)\n",
    "print 'La variable titanic tiene', len(titanic), \"filas (pasajeros).\"\n",
    "titanic.head(n = 10)"
   ]
  },
  {
   "cell_type": "markdown",
   "metadata": {},
   "source": [
    "### Descripción de variables:\n",
    "- survival : superviviente (0 = No; 1 = Yes)\n",
    "- pclass   : clase de pasajero (1 = 1st; 2 = 2nd; 3 = 3rd)\n",
    "- name     : nombre\n",
    "- sex      : sexo\n",
    "- age      : edad\n",
    "- sibsp    : Número de hermanos / cónyuges bordo\n",
    "- parch    : Númeto de Padres / Niños A bordo\n",
    "- ticket   : número de ticket\n",
    "- fare     : tarifa\n",
    "- cabin    : Cabin\n",
    "- embarked : puerto de embarque (C = Cherbourg; Q = Queenstown; S = Southampton)\n",
    "- boat     : ???\n",
    "- body     : ???\n",
    "- home.dest: destino\n",
    "\n",
    "_Referencia_: [Titanic: Machine Learning from Disaster](https://www.kaggle.com/c/titanic/data)"
   ]
  },
  {
   "cell_type": "code",
   "execution_count": 15,
   "metadata": {
    "collapsed": false
   },
   "outputs": [
    {
     "data": {
      "text/html": [
       "<div>\n",
       "<table border=\"1\" class=\"dataframe\">\n",
       "  <thead>\n",
       "    <tr style=\"text-align: right;\">\n",
       "      <th></th>\n",
       "      <th>pclass</th>\n",
       "      <th>survived</th>\n",
       "      <th>age</th>\n",
       "      <th>sibsp</th>\n",
       "      <th>parch</th>\n",
       "      <th>fare</th>\n",
       "      <th>body</th>\n",
       "    </tr>\n",
       "  </thead>\n",
       "  <tbody>\n",
       "    <tr>\n",
       "      <th>count</th>\n",
       "      <td>1309.000000</td>\n",
       "      <td>1309.000000</td>\n",
       "      <td>1046.000000</td>\n",
       "      <td>1309.000000</td>\n",
       "      <td>1309.000000</td>\n",
       "      <td>1308.000000</td>\n",
       "      <td>121.000000</td>\n",
       "    </tr>\n",
       "    <tr>\n",
       "      <th>mean</th>\n",
       "      <td>2.294882</td>\n",
       "      <td>0.381971</td>\n",
       "      <td>29.881138</td>\n",
       "      <td>0.498854</td>\n",
       "      <td>0.385027</td>\n",
       "      <td>33.295479</td>\n",
       "      <td>160.809917</td>\n",
       "    </tr>\n",
       "    <tr>\n",
       "      <th>std</th>\n",
       "      <td>0.837836</td>\n",
       "      <td>0.486055</td>\n",
       "      <td>14.413493</td>\n",
       "      <td>1.041658</td>\n",
       "      <td>0.865560</td>\n",
       "      <td>51.758668</td>\n",
       "      <td>97.696922</td>\n",
       "    </tr>\n",
       "    <tr>\n",
       "      <th>min</th>\n",
       "      <td>1.000000</td>\n",
       "      <td>0.000000</td>\n",
       "      <td>0.170000</td>\n",
       "      <td>0.000000</td>\n",
       "      <td>0.000000</td>\n",
       "      <td>0.000000</td>\n",
       "      <td>1.000000</td>\n",
       "    </tr>\n",
       "    <tr>\n",
       "      <th>25%</th>\n",
       "      <td>2.000000</td>\n",
       "      <td>0.000000</td>\n",
       "      <td>21.000000</td>\n",
       "      <td>0.000000</td>\n",
       "      <td>0.000000</td>\n",
       "      <td>7.895800</td>\n",
       "      <td>72.000000</td>\n",
       "    </tr>\n",
       "    <tr>\n",
       "      <th>50%</th>\n",
       "      <td>3.000000</td>\n",
       "      <td>0.000000</td>\n",
       "      <td>28.000000</td>\n",
       "      <td>0.000000</td>\n",
       "      <td>0.000000</td>\n",
       "      <td>14.454200</td>\n",
       "      <td>155.000000</td>\n",
       "    </tr>\n",
       "    <tr>\n",
       "      <th>75%</th>\n",
       "      <td>3.000000</td>\n",
       "      <td>1.000000</td>\n",
       "      <td>39.000000</td>\n",
       "      <td>1.000000</td>\n",
       "      <td>0.000000</td>\n",
       "      <td>31.275000</td>\n",
       "      <td>256.000000</td>\n",
       "    </tr>\n",
       "    <tr>\n",
       "      <th>max</th>\n",
       "      <td>3.000000</td>\n",
       "      <td>1.000000</td>\n",
       "      <td>80.000000</td>\n",
       "      <td>8.000000</td>\n",
       "      <td>9.000000</td>\n",
       "      <td>512.329200</td>\n",
       "      <td>328.000000</td>\n",
       "    </tr>\n",
       "  </tbody>\n",
       "</table>\n",
       "</div>"
      ],
      "text/plain": [
       "            pclass     survived          age        sibsp        parch  \\\n",
       "count  1309.000000  1309.000000  1046.000000  1309.000000  1309.000000   \n",
       "mean      2.294882     0.381971    29.881138     0.498854     0.385027   \n",
       "std       0.837836     0.486055    14.413493     1.041658     0.865560   \n",
       "min       1.000000     0.000000     0.170000     0.000000     0.000000   \n",
       "25%       2.000000     0.000000    21.000000     0.000000     0.000000   \n",
       "50%       3.000000     0.000000    28.000000     0.000000     0.000000   \n",
       "75%       3.000000     1.000000    39.000000     1.000000     0.000000   \n",
       "max       3.000000     1.000000    80.000000     8.000000     9.000000   \n",
       "\n",
       "              fare        body  \n",
       "count  1308.000000  121.000000  \n",
       "mean     33.295479  160.809917  \n",
       "std      51.758668   97.696922  \n",
       "min       0.000000    1.000000  \n",
       "25%       7.895800   72.000000  \n",
       "50%      14.454200  155.000000  \n",
       "75%      31.275000  256.000000  \n",
       "max     512.329200  328.000000  "
      ]
     },
     "execution_count": 15,
     "metadata": {},
     "output_type": "execute_result"
    }
   ],
   "source": [
    "titanic.describe()"
   ]
  },
  {
   "cell_type": "markdown",
   "metadata": {},
   "source": [
    "### Variable objetivo (target)"
   ]
  },
  {
   "cell_type": "markdown",
   "metadata": {},
   "source": [
    "La variable objetivo (target) es **survived** que, como veremos a continuación, es una variable binaria."
   ]
  },
  {
   "cell_type": "markdown",
   "metadata": {},
   "source": [
    "### Limpieza inicial del conjunto de datos"
   ]
  },
  {
   "cell_type": "markdown",
   "metadata": {},
   "source": [
    "Antes de empezar con el análisis de variables, aplicaremos la \"limpieza\" de variables y datos sugerida en el enunciado."
   ]
  },
  {
   "cell_type": "markdown",
   "metadata": {},
   "source": [
    "1º) Eliminamos las columnas 'boat' y 'body', ya que no contienen información relevante para la resolución del problema"
   ]
  },
  {
   "cell_type": "code",
   "execution_count": 16,
   "metadata": {
    "collapsed": false
   },
   "outputs": [],
   "source": [
    "# Eliminamos las variables del conjunto de datos\n",
    "del titanic['boat']\n",
    "del titanic['body']"
   ]
  },
  {
   "cell_type": "markdown",
   "metadata": {},
   "source": [
    "2º) Eliminamos las filas que contengan valores NaN en las columnas “age” y “fare”\n",
    "\n",
    "    Podemos hacerlo de varias maneras:\n",
    "\n",
    "        A)  mask = titanic[['age', 'fare']].applymap(lambda x: math.isnan(x))\n",
    "            titanic = titanic[-mask.any(axis = 1)]\n",
    "\n",
    "        B)  titanic = titanic.dropna(how='any', subset=['age', 'fare'])\n",
    "\n",
    "    En esta ocasión lo haremos con la primera de ellas."
   ]
  },
  {
   "cell_type": "code",
   "execution_count": 17,
   "metadata": {
    "collapsed": false
   },
   "outputs": [],
   "source": [
    "# Guardamos una copia del conjunto de datos original\n",
    "titanic_org = titanic\n",
    "\n",
    "# Eliminamos las filas con valores NaN en age o en fare\n",
    "mask = titanic[['age', 'fare']].applymap(lambda x: math.isnan(x))\n",
    "titanic = titanic[-mask.any(axis = 1)]"
   ]
  },
  {
   "cell_type": "markdown",
   "metadata": {},
   "source": [
    "### Nuevo conjunto de datos"
   ]
  },
  {
   "cell_type": "code",
   "execution_count": 18,
   "metadata": {
    "collapsed": false
   },
   "outputs": [
    {
     "name": "stdout",
     "output_type": "stream",
     "text": [
      "Número original de filas (pasajeros): 1309\n",
      "Número de filas de datos (pasajeros) descartadas: 264\n",
      "Nuevo número de pasajeros después de eliminar NaN en age y fare: 1045\n"
     ]
    },
    {
     "data": {
      "text/html": [
       "<div>\n",
       "<table border=\"1\" class=\"dataframe\">\n",
       "  <thead>\n",
       "    <tr style=\"text-align: right;\">\n",
       "      <th></th>\n",
       "      <th>pclass</th>\n",
       "      <th>survived</th>\n",
       "      <th>name</th>\n",
       "      <th>sex</th>\n",
       "      <th>age</th>\n",
       "      <th>sibsp</th>\n",
       "      <th>parch</th>\n",
       "      <th>ticket</th>\n",
       "      <th>fare</th>\n",
       "      <th>cabin</th>\n",
       "      <th>embarked</th>\n",
       "      <th>home.dest</th>\n",
       "    </tr>\n",
       "  </thead>\n",
       "  <tbody>\n",
       "    <tr>\n",
       "      <th>0</th>\n",
       "      <td>1</td>\n",
       "      <td>1</td>\n",
       "      <td>Allen, Miss. Elisabeth Walton</td>\n",
       "      <td>female</td>\n",
       "      <td>29.00</td>\n",
       "      <td>0</td>\n",
       "      <td>0</td>\n",
       "      <td>24160</td>\n",
       "      <td>211.3375</td>\n",
       "      <td>B5</td>\n",
       "      <td>S</td>\n",
       "      <td>St Louis, MO</td>\n",
       "    </tr>\n",
       "    <tr>\n",
       "      <th>1</th>\n",
       "      <td>1</td>\n",
       "      <td>1</td>\n",
       "      <td>Allison, Master. Hudson Trevor</td>\n",
       "      <td>male</td>\n",
       "      <td>0.92</td>\n",
       "      <td>1</td>\n",
       "      <td>2</td>\n",
       "      <td>113781</td>\n",
       "      <td>151.5500</td>\n",
       "      <td>C22 C26</td>\n",
       "      <td>S</td>\n",
       "      <td>Montreal, PQ / Chesterville, ON</td>\n",
       "    </tr>\n",
       "    <tr>\n",
       "      <th>2</th>\n",
       "      <td>1</td>\n",
       "      <td>0</td>\n",
       "      <td>Allison, Miss. Helen Loraine</td>\n",
       "      <td>female</td>\n",
       "      <td>2.00</td>\n",
       "      <td>1</td>\n",
       "      <td>2</td>\n",
       "      <td>113781</td>\n",
       "      <td>151.5500</td>\n",
       "      <td>C22 C26</td>\n",
       "      <td>S</td>\n",
       "      <td>Montreal, PQ / Chesterville, ON</td>\n",
       "    </tr>\n",
       "    <tr>\n",
       "      <th>3</th>\n",
       "      <td>1</td>\n",
       "      <td>0</td>\n",
       "      <td>Allison, Mr. Hudson Joshua Creighton</td>\n",
       "      <td>male</td>\n",
       "      <td>30.00</td>\n",
       "      <td>1</td>\n",
       "      <td>2</td>\n",
       "      <td>113781</td>\n",
       "      <td>151.5500</td>\n",
       "      <td>C22 C26</td>\n",
       "      <td>S</td>\n",
       "      <td>Montreal, PQ / Chesterville, ON</td>\n",
       "    </tr>\n",
       "    <tr>\n",
       "      <th>4</th>\n",
       "      <td>1</td>\n",
       "      <td>0</td>\n",
       "      <td>Allison, Mrs. Hudson J C (Bessie Waldo Daniels)</td>\n",
       "      <td>female</td>\n",
       "      <td>25.00</td>\n",
       "      <td>1</td>\n",
       "      <td>2</td>\n",
       "      <td>113781</td>\n",
       "      <td>151.5500</td>\n",
       "      <td>C22 C26</td>\n",
       "      <td>S</td>\n",
       "      <td>Montreal, PQ / Chesterville, ON</td>\n",
       "    </tr>\n",
       "  </tbody>\n",
       "</table>\n",
       "</div>"
      ],
      "text/plain": [
       "   pclass  survived                                             name     sex  \\\n",
       "0       1         1                    Allen, Miss. Elisabeth Walton  female   \n",
       "1       1         1                   Allison, Master. Hudson Trevor    male   \n",
       "2       1         0                     Allison, Miss. Helen Loraine  female   \n",
       "3       1         0             Allison, Mr. Hudson Joshua Creighton    male   \n",
       "4       1         0  Allison, Mrs. Hudson J C (Bessie Waldo Daniels)  female   \n",
       "\n",
       "     age  sibsp  parch  ticket      fare    cabin embarked  \\\n",
       "0  29.00      0      0   24160  211.3375       B5        S   \n",
       "1   0.92      1      2  113781  151.5500  C22 C26        S   \n",
       "2   2.00      1      2  113781  151.5500  C22 C26        S   \n",
       "3  30.00      1      2  113781  151.5500  C22 C26        S   \n",
       "4  25.00      1      2  113781  151.5500  C22 C26        S   \n",
       "\n",
       "                         home.dest  \n",
       "0                     St Louis, MO  \n",
       "1  Montreal, PQ / Chesterville, ON  \n",
       "2  Montreal, PQ / Chesterville, ON  \n",
       "3  Montreal, PQ / Chesterville, ON  \n",
       "4  Montreal, PQ / Chesterville, ON  "
      ]
     },
     "execution_count": 18,
     "metadata": {},
     "output_type": "execute_result"
    }
   ],
   "source": [
    "# Mostramos como queda el conjunto de datos\n",
    "print 'Número original de filas (pasajeros):', len(titanic_org)\n",
    "print 'Número de filas de datos (pasajeros) descartadas:', (len(titanic_org) - len(titanic))\n",
    "print 'Nuevo número de pasajeros después de eliminar NaN en age y fare:', len(titanic)\n",
    "titanic.head()"
   ]
  },
  {
   "cell_type": "markdown",
   "metadata": {},
   "source": [
    "## 3.2 Discretización de variables y eliminación de variables con poca capacidad predictiva"
   ]
  },
  {
   "cell_type": "markdown",
   "metadata": {},
   "source": [
    "Antes de crear modelos es conveniente transformar las variables continuas en variables discretas."
   ]
  },
  {
   "cell_type": "code",
   "execution_count": 19,
   "metadata": {
    "collapsed": false
   },
   "outputs": [
    {
     "data": {
      "text/plain": [
       "pclass          3\n",
       "survived        2\n",
       "name         1043\n",
       "sex             2\n",
       "age            97\n",
       "sibsp           7\n",
       "parch           7\n",
       "ticket        731\n",
       "fare          256\n",
       "cabin         174\n",
       "embarked        3\n",
       "home.dest     348\n",
       "dtype: int64"
      ]
     },
     "execution_count": 19,
     "metadata": {},
     "output_type": "execute_result"
    }
   ],
   "source": [
    "# Obtenemos la variabilidad de cada una de las variables\n",
    "titanic.T.apply(lambda x: x.nunique(), axis=1)"
   ]
  },
  {
   "cell_type": "code",
   "execution_count": 20,
   "metadata": {
    "collapsed": false
   },
   "outputs": [
    {
     "data": {
      "text/html": [
       "<div>\n",
       "<table border=\"1\" class=\"dataframe\">\n",
       "  <thead>\n",
       "    <tr style=\"text-align: right;\">\n",
       "      <th></th>\n",
       "      <th>pclass</th>\n",
       "      <th>survived</th>\n",
       "      <th>sex</th>\n",
       "      <th>age</th>\n",
       "      <th>sibsp</th>\n",
       "      <th>parch</th>\n",
       "      <th>fare</th>\n",
       "      <th>embarked</th>\n",
       "    </tr>\n",
       "  </thead>\n",
       "  <tbody>\n",
       "    <tr>\n",
       "      <th>0</th>\n",
       "      <td>1</td>\n",
       "      <td>1</td>\n",
       "      <td>female</td>\n",
       "      <td>29.00</td>\n",
       "      <td>0</td>\n",
       "      <td>0</td>\n",
       "      <td>211.3375</td>\n",
       "      <td>S</td>\n",
       "    </tr>\n",
       "    <tr>\n",
       "      <th>1</th>\n",
       "      <td>1</td>\n",
       "      <td>1</td>\n",
       "      <td>male</td>\n",
       "      <td>0.92</td>\n",
       "      <td>1</td>\n",
       "      <td>2</td>\n",
       "      <td>151.5500</td>\n",
       "      <td>S</td>\n",
       "    </tr>\n",
       "    <tr>\n",
       "      <th>2</th>\n",
       "      <td>1</td>\n",
       "      <td>0</td>\n",
       "      <td>female</td>\n",
       "      <td>2.00</td>\n",
       "      <td>1</td>\n",
       "      <td>2</td>\n",
       "      <td>151.5500</td>\n",
       "      <td>S</td>\n",
       "    </tr>\n",
       "    <tr>\n",
       "      <th>3</th>\n",
       "      <td>1</td>\n",
       "      <td>0</td>\n",
       "      <td>male</td>\n",
       "      <td>30.00</td>\n",
       "      <td>1</td>\n",
       "      <td>2</td>\n",
       "      <td>151.5500</td>\n",
       "      <td>S</td>\n",
       "    </tr>\n",
       "    <tr>\n",
       "      <th>4</th>\n",
       "      <td>1</td>\n",
       "      <td>0</td>\n",
       "      <td>female</td>\n",
       "      <td>25.00</td>\n",
       "      <td>1</td>\n",
       "      <td>2</td>\n",
       "      <td>151.5500</td>\n",
       "      <td>S</td>\n",
       "    </tr>\n",
       "  </tbody>\n",
       "</table>\n",
       "</div>"
      ],
      "text/plain": [
       "   pclass  survived     sex    age  sibsp  parch      fare embarked\n",
       "0       1         1  female  29.00      0      0  211.3375        S\n",
       "1       1         1    male   0.92      1      2  151.5500        S\n",
       "2       1         0  female   2.00      1      2  151.5500        S\n",
       "3       1         0    male  30.00      1      2  151.5500        S\n",
       "4       1         0  female  25.00      1      2  151.5500        S"
      ]
     },
     "execution_count": 20,
     "metadata": {},
     "output_type": "execute_result"
    }
   ],
   "source": [
    "# Eliminamos las variables que muestran mayor variabilidad y aportan poca capacidad predictiva: \n",
    "# name, ticket, cabin y home.dest\n",
    "del titanic['name']\n",
    "del titanic['ticket']\n",
    "del titanic['cabin']\n",
    "del titanic['home.dest']\n",
    "titanic.head()"
   ]
  },
  {
   "cell_type": "code",
   "execution_count": 21,
   "metadata": {
    "collapsed": false
   },
   "outputs": [
    {
     "name": "stdout",
     "output_type": "stream",
     "text": [
      "Valores de la variable survived:  [1 0]\n",
      "Valores de la variable pclass..:  [1 2 3]\n",
      "Valores de la variable sex.....:  ['female' 'male']\n",
      "Valores de la variable sibsp...:  [0 1 2 3 4 5 8]\n",
      "Valores de la variable parch...:  [0 2 1 4 3 5 6]\n",
      "Valores de la variable embarked:  ['S' 'C' nan 'Q']\n"
     ]
    }
   ],
   "source": [
    "# Obtenemos los valores distintos de la variable objetivo\n",
    "print 'Valores de la variable survived: ', titanic.survived.unique()\n",
    "\n",
    "# Obtenemos los valores distintos de las variables que muestran menor variabilidad\n",
    "print 'Valores de la variable pclass..: ', titanic.pclass.unique()\n",
    "print 'Valores de la variable sex.....: ', titanic.sex.unique()\n",
    "print 'Valores de la variable sibsp...: ', titanic.sibsp.unique()\n",
    "print 'Valores de la variable parch...: ', titanic.parch.unique()\n",
    "print 'Valores de la variable embarked: ', titanic.embarked.unique()"
   ]
  },
  {
   "cell_type": "code",
   "execution_count": 22,
   "metadata": {
    "collapsed": false
   },
   "outputs": [],
   "source": [
    "# Clasificamos las variables segun sus características\n",
    "var_target = titanic['survived']\n",
    "var_numericas = ['age', 'fare']\n",
    "var_categoricas = ['pclass', 'sex', 'sibsp', 'parch', 'embarked']"
   ]
  },
  {
   "cell_type": "markdown",
   "metadata": {},
   "source": [
    "### 3.2.1 Análisis de las  variables categóricas"
   ]
  },
  {
   "cell_type": "markdown",
   "metadata": {},
   "source": [
    "Las variables se pueden analizar utilizando tablas de frecuencia para comprobar la forma en que se reparten sus valores.\n",
    "\n",
    "En las variables con niveles con pocos registros significativos hay que hacer reagrupaciones de éstos últimos con otros, de forma que puedan ser significativos. Para ello se puede utilizar el peso de la evidencia (WoE, Weight of Evidence), comparando la capacidad predictiva de cada uno de los niveles de la variable."
   ]
  },
  {
   "cell_type": "code",
   "execution_count": 23,
   "metadata": {
    "collapsed": false
   },
   "outputs": [
    {
     "name": "stdout",
     "output_type": "stream",
     "text": [
      "*** Tabla de frecuencias para la variable pclass respecto de la variable survived:\n",
      "pclass      1    2    3\n",
      "survived               \n",
      "0         103  146  369\n",
      "1         181  115  131\n",
      "\n",
      "*** Tabla de frecuencias para la variable sex respecto de la variable survived:\n",
      "sex       female  male\n",
      "survived              \n",
      "0             96   522\n",
      "1            292   135\n",
      "\n",
      "*** Tabla de frecuencias para la variable sibsp respecto de la variable survived:\n",
      "sibsp       0    1   2   3   4  5  8\n",
      "survived                            \n",
      "0         429  133  20  10  19  6  1\n",
      "1         255  147  16   6   3  0  0\n",
      "\n",
      "*** Tabla de frecuencias para la variable parch respecto de la variable survived:\n",
      "parch       0   1   2  3  4  5  6\n",
      "survived                         \n",
      "0         497  65  42  3  4  5  2\n",
      "1         270  95  55  5  1  1  0\n",
      "\n",
      "*** Tabla de frecuencias para la variable embarked respecto de la variable survived:\n",
      "embarked    C   Q    S\n",
      "survived              \n",
      "0          80  37  501\n",
      "1         132  13  280\n",
      "\n"
     ]
    }
   ],
   "source": [
    "# Obtenemos las tablas de frecuencias de las variables categóricas respecto de la variable survived\n",
    "for var in var_categoricas:\n",
    "    print \"*** Tabla de frecuencias para la variable\", var, \"respecto de la variable survived:\"\n",
    "    print pd.crosstab(titanic['survived'], titanic[var])\n",
    "    print"
   ]
  },
  {
   "cell_type": "markdown",
   "metadata": {},
   "source": [
    "Las variables sibsp y parch presentan niveles con pocos registros, por lo que las reagruparemos utilizando el peso de la evidencia (WoE)."
   ]
  },
  {
   "cell_type": "code",
   "execution_count": 24,
   "metadata": {
    "collapsed": false
   },
   "outputs": [],
   "source": [
    "# Creamos una función para determinar el peso de la evidencia de los niveles de una variable\n",
    "def get_WoE(data, var, target):\n",
    "    crosstab = pd.crosstab(data[target], data[var])\n",
    "    print \"Obteniendo el Woe para la variable\", var, \":\"    \n",
    "    for col in crosstab.columns:\n",
    "        if crosstab[col][1] == 0:\n",
    "            print \"  El WoE para\", col, \"[\", sum(crosstab[col]), \"] es infinito\"\n",
    "        else:\n",
    "            print \"  El WoE para\", col, \"[\", sum(crosstab[col]), \"] es\", np.log(float(crosstab[col][0]) / float(crosstab[col][1]))"
   ]
  },
  {
   "cell_type": "markdown",
   "metadata": {},
   "source": [
    "### Reagrupamos la variable sibsp"
   ]
  },
  {
   "cell_type": "code",
   "execution_count": 25,
   "metadata": {
    "collapsed": false
   },
   "outputs": [
    {
     "name": "stdout",
     "output_type": "stream",
     "text": [
      "Obteniendo el Woe para la variable sibsp :\n",
      "  El WoE para 0 [ 684 ] es 0.52019337377\n",
      "  El WoE para 1 [ 280 ] es -0.100083458557\n",
      "  El WoE para 2 [ 36 ] es 0.223143551314\n",
      "  El WoE para 3 [ 16 ] es 0.510825623766\n",
      "  El WoE para 4 [ 22 ] es 1.8458266905\n",
      "  El WoE para 5 [ 6 ] es infinito\n",
      "  El WoE para 8 [ 1 ] es infinito\n"
     ]
    }
   ],
   "source": [
    "# Obtenemos el peso de la evidencia de la variable\n",
    "get_WoE(titanic, 'sibsp', 'survived') "
   ]
  },
  {
   "cell_type": "markdown",
   "metadata": {},
   "source": [
    "La variable sibsp presenta muy pocas ocurrencias de los valores 2, 3, 4, 5 y 8 en comparación con los valores 0 y 1.\n",
    "Por ello vamos a reagrupar los valores y crear una nueva clasificación sibspX: "
   ]
  },
  {
   "cell_type": "code",
   "execution_count": 28,
   "metadata": {
    "collapsed": false
   },
   "outputs": [
    {
     "name": "stdout",
     "output_type": "stream",
     "text": [
      "Obteniendo el Woe para la variable sibspX :\n",
      "  El WoE para n0 [ 700 ] es 0.519979005752\n",
      "  El WoE para n1 [ 280 ] es -0.100083458557\n",
      "  El WoE para n2 [ 36 ] es 0.223143551314\n",
      "  El WoE para n9 [ 29 ] es 2.15948424935\n"
     ]
    }
   ],
   "source": [
    "# Reagrupamos los valores de la variable en nuevos niveles\n",
    "titanic.loc[:, 'sibspX'] = None\n",
    "\n",
    "for row in titanic.index:\n",
    "    if   titanic.loc[row, 'sibsp'] in (0, 3):\n",
    "        titanic.loc[row, 'sibspX'] = 'n0'\n",
    "    elif titanic.loc[row, 'sibsp'] == 1:\n",
    "        titanic.loc[row, 'sibspX'] = 'n1'\n",
    "    elif titanic.loc[row, 'sibsp'] == 2:\n",
    "        titanic.loc[row, 'sibspX'] = 'n2'\n",
    "    else:\n",
    "        titanic.loc[row, 'sibspX'] = 'n9'\n",
    "\n",
    "get_WoE(titanic, 'sibspX', 'survived') "
   ]
  },
  {
   "cell_type": "markdown",
   "metadata": {},
   "source": [
    "### Reagrupamos la variable parch"
   ]
  },
  {
   "cell_type": "code",
   "execution_count": 29,
   "metadata": {
    "collapsed": false
   },
   "outputs": [
    {
     "name": "stdout",
     "output_type": "stream",
     "text": [
      "Obteniendo el Woe para la variable parch :\n",
      "  El WoE para 0 [ 767 ] es 0.610168067098\n",
      "  El WoE para 1 [ 160 ] es -0.379489621705\n",
      "  El WoE para 2 [ 97 ] es -0.269663566949\n",
      "  El WoE para 3 [ 8 ] es -0.510825623766\n",
      "  El WoE para 4 [ 5 ] es 1.38629436112\n",
      "  El WoE para 5 [ 6 ] es 1.60943791243\n",
      "  El WoE para 6 [ 2 ] es infinito\n"
     ]
    }
   ],
   "source": [
    "# Obtenemos el peso de la evidencia de la variable\n",
    "get_WoE(titanic, 'parch', 'survived') "
   ]
  },
  {
   "cell_type": "markdown",
   "metadata": {},
   "source": [
    "La variable parch presenta muy pocas ocurrencias de los valores 3, 4, 5 y 6 en comparación con los valores 0, 1 y 2.\n",
    "Por ello vamos a reagrupar los valores y crear una nueva clasificación parchX: "
   ]
  },
  {
   "cell_type": "code",
   "execution_count": 30,
   "metadata": {
    "collapsed": false
   },
   "outputs": [
    {
     "name": "stdout",
     "output_type": "stream",
     "text": [
      "Obteniendo el Woe para la variable parchX :\n",
      "  El WoE para n0 [ 767 ] es 0.610168067098\n",
      "  El WoE para n1 [ 168 ] es -0.385662480812\n",
      "  El WoE para n2 [ 97 ] es -0.269663566949\n",
      "  El WoE para n9 [ 13 ] es 1.70474809224\n"
     ]
    }
   ],
   "source": [
    "# Reagrupamos los valores de la variable en nuevos niveles\n",
    "titanic.loc[:, 'parchX'] = None\n",
    "\n",
    "for row in titanic.index:\n",
    "    if   titanic.loc[row, 'parch'] == 0:\n",
    "        titanic.loc[row, 'parchX'] = 'n0'\n",
    "    elif titanic.loc[row, 'parch'] in (1, 3):\n",
    "        titanic.loc[row, 'parchX'] = 'n1'\n",
    "    elif titanic.loc[row, 'parch'] == 2:\n",
    "        titanic.loc[row, 'parchX'] = 'n2'\n",
    "    else:\n",
    "        titanic.loc[row, 'parchX'] = 'n9'\n",
    "\n",
    "get_WoE(titanic, 'parchX', 'survived') "
   ]
  },
  {
   "cell_type": "markdown",
   "metadata": {},
   "source": [
    "### 3.2.2 Análisis de las variables continuas"
   ]
  },
  {
   "cell_type": "markdown",
   "metadata": {},
   "source": [
    "Las variables continuas pueden analizarse mediante la utilización de histogramas.\n",
    "Se obtienen histogramas tanto para los valores positivos de la variable target (objetivo) como para los valores negativos."
   ]
  },
  {
   "cell_type": "code",
   "execution_count": 31,
   "metadata": {
    "collapsed": false
   },
   "outputs": [
    {
     "data": {
      "text/plain": [
       "array([[<matplotlib.axes._subplots.AxesSubplot object at 0x7f2c11fbd1d0>,\n",
       "        <matplotlib.axes._subplots.AxesSubplot object at 0x7f2c05ab2890>]], dtype=object)"
      ]
     },
     "execution_count": 31,
     "metadata": {},
     "output_type": "execute_result"
    },
    {
     "data": {
      "image/png": "[encoded data removed]",
      "text/plain": [
       "<matplotlib.figure.Figure at 0x7f2c059ad650>"
      ]
     },
     "metadata": {},
     "output_type": "display_data"
    }
   ],
   "source": [
    "# Histogramas de variables continuas para valores positivos del target\n",
    "titanic[var_numericas][var_target == 1].hist()"
   ]
  },
  {
   "cell_type": "code",
   "execution_count": 32,
   "metadata": {
    "collapsed": false
   },
   "outputs": [
    {
     "data": {
      "text/plain": [
       "array([[<matplotlib.axes._subplots.AxesSubplot object at 0x7f2c0549f890>,\n",
       "        <matplotlib.axes._subplots.AxesSubplot object at 0x7f2c0540bb10>]], dtype=object)"
      ]
     },
     "execution_count": 32,
     "metadata": {},
     "output_type": "execute_result"
    },
    {
     "data": {
      "image/png": "[encoded data removed]",
      "text/plain": [
       "<matplotlib.figure.Figure at 0x7f2c05966bd0>"
      ]
     },
     "metadata": {},
     "output_type": "display_data"
    }
   ],
   "source": [
    "# Histogramas de variables continuas para valores negativos del target\n",
    "titanic[var_numericas][var_target == 0].hist()"
   ]
  },
  {
   "cell_type": "markdown",
   "metadata": {},
   "source": [
    "### Variable age\n",
    "\n",
    "Vamos a analizar la varaible age superponiendo sus histogramas:"
   ]
  },
  {
   "cell_type": "code",
   "execution_count": 33,
   "metadata": {
    "collapsed": false
   },
   "outputs": [
    {
     "data": {
      "image/png": "[encoded data removed]",
      "text/plain": [
       "<matplotlib.figure.Figure at 0x7f2c0530fd90>"
      ]
     },
     "metadata": {},
     "output_type": "display_data"
    }
   ],
   "source": [
    "import matplotlib.pyplot as plt\n",
    "plt.hist(titanic['age'][var_target == 1], bins=10, histtype='bar', color='blue', label='age (survived=1)') \n",
    "plt.hist(titanic['age'][var_target == 0], bins=10, histtype='bar', color='cyan', label='age (survived=0)', alpha=0.5)\n",
    "plt.title('Histograma: age')\n",
    "plt.legend()\n",
    "plt.show()"
   ]
  },
  {
   "cell_type": "markdown",
   "metadata": {},
   "source": [
    "Podemos ver varias zonas, pero seleccionaremos las siguientes para hacer una nueva agrupación binaria:\n",
    "- survived = 1:\n",
    "    - age < 15\n",
    "    - age >= 52 and age <=57\n",
    "    - age > 75\n",
    "- survived = 0\n",
    "    - el resto"
   ]
  },
  {
   "cell_type": "code",
   "execution_count": 34,
   "metadata": {
    "collapsed": false
   },
   "outputs": [
    {
     "name": "stdout",
     "output_type": "stream",
     "text": [
      "Obteniendo el Woe para la variable ageX :\n",
      "  El WoE para n0 [ 896 ] es 0.463479503169\n",
      "  El WoE para n1 [ 149 ] es -0.174941449496\n"
     ]
    }
   ],
   "source": [
    "titanic.loc[:, 'ageX'] = titanic['age'].map(lambda x: 'n1' if x<15 or (x>=52 and x<=57) or x>75 else 'n0')\n",
    "get_WoE(titanic, 'ageX', 'survived') "
   ]
  },
  {
   "cell_type": "markdown",
   "metadata": {
    "collapsed": true
   },
   "source": [
    "### Varaible fare\n",
    "Vamos a analizar la varaible fare superponiendo sus histogramas:"
   ]
  },
  {
   "cell_type": "code",
   "execution_count": 35,
   "metadata": {
    "collapsed": false
   },
   "outputs": [
    {
     "data": {
      "image/png": "[encoded data removed]",
      "text/plain": [
       "<matplotlib.figure.Figure at 0x7f2c05273a50>"
      ]
     },
     "metadata": {},
     "output_type": "display_data"
    }
   ],
   "source": [
    "import matplotlib.pyplot as plt\n",
    "plt.hist(titanic['fare'][var_target == 1], bins=6, histtype='bar', color='blue', label='fare (survived=1)') \n",
    "plt.hist(titanic['fare'][var_target == 0], bins=6, histtype='bar', color='cyan', label='fare (survived=0)', alpha=0.5)\n",
    "plt.title('Histograma: fare')\n",
    "plt.legend()\n",
    "plt.show()"
   ]
  },
  {
   "cell_type": "markdown",
   "metadata": {
    "collapsed": true
   },
   "source": [
    "En la variable fare podemos distinguir claramente dos zonas para hacer una nueva agrupación binaria:\n",
    "- survived = 0:\n",
    "    - en los valores por debajo de 50 hay mayoría de survived=0\n",
    "- survived = 1:\n",
    "    - a partir de 50 predominan los valores surived=1. \n",
    "\n",
    "Por tanto, podemos crear una nueva variable categórica a partir de los datos numéricos."
   ]
  },
  {
   "cell_type": "code",
   "execution_count": 36,
   "metadata": {
    "collapsed": false
   },
   "outputs": [
    {
     "name": "stdout",
     "output_type": "stream",
     "text": [
      "Obteniendo el Woe para la variable fareX :\n",
      "  El WoE para n0 [ 831 ] es 0.671563608893\n",
      "  El WoE para n1 [ 214 ] es -0.764098916532\n"
     ]
    }
   ],
   "source": [
    "titanic.loc[:, 'fareX'] = titanic['fare'].map(lambda x: 'n0' if x < 50 else 'n1')\n",
    "get_WoE(titanic, 'fareX', 'survived') "
   ]
  },
  {
   "cell_type": "markdown",
   "metadata": {
    "collapsed": true
   },
   "source": [
    "### Nuevo conjunto de datos"
   ]
  },
  {
   "cell_type": "code",
   "execution_count": 37,
   "metadata": {
    "collapsed": false
   },
   "outputs": [],
   "source": [
    "# Eliminamos las variables reemplazadas\n",
    "del titanic['age']\n",
    "del titanic['sibsp']\n",
    "del titanic['parch']\n",
    "del titanic['fare']"
   ]
  },
  {
   "cell_type": "code",
   "execution_count": 38,
   "metadata": {
    "collapsed": false
   },
   "outputs": [
    {
     "data": {
      "text/html": [
       "<div>\n",
       "<table border=\"1\" class=\"dataframe\">\n",
       "  <thead>\n",
       "    <tr style=\"text-align: right;\">\n",
       "      <th></th>\n",
       "      <th>pclass</th>\n",
       "      <th>survived</th>\n",
       "      <th>sex</th>\n",
       "      <th>embarked</th>\n",
       "      <th>sibspX</th>\n",
       "      <th>parchX</th>\n",
       "      <th>ageX</th>\n",
       "      <th>fareX</th>\n",
       "    </tr>\n",
       "  </thead>\n",
       "  <tbody>\n",
       "    <tr>\n",
       "      <th>0</th>\n",
       "      <td>1</td>\n",
       "      <td>1</td>\n",
       "      <td>female</td>\n",
       "      <td>S</td>\n",
       "      <td>n0</td>\n",
       "      <td>n0</td>\n",
       "      <td>n0</td>\n",
       "      <td>n1</td>\n",
       "    </tr>\n",
       "    <tr>\n",
       "      <th>1</th>\n",
       "      <td>1</td>\n",
       "      <td>1</td>\n",
       "      <td>male</td>\n",
       "      <td>S</td>\n",
       "      <td>n1</td>\n",
       "      <td>n2</td>\n",
       "      <td>n1</td>\n",
       "      <td>n1</td>\n",
       "    </tr>\n",
       "    <tr>\n",
       "      <th>2</th>\n",
       "      <td>1</td>\n",
       "      <td>0</td>\n",
       "      <td>female</td>\n",
       "      <td>S</td>\n",
       "      <td>n1</td>\n",
       "      <td>n2</td>\n",
       "      <td>n1</td>\n",
       "      <td>n1</td>\n",
       "    </tr>\n",
       "    <tr>\n",
       "      <th>3</th>\n",
       "      <td>1</td>\n",
       "      <td>0</td>\n",
       "      <td>male</td>\n",
       "      <td>S</td>\n",
       "      <td>n1</td>\n",
       "      <td>n2</td>\n",
       "      <td>n0</td>\n",
       "      <td>n1</td>\n",
       "    </tr>\n",
       "    <tr>\n",
       "      <th>4</th>\n",
       "      <td>1</td>\n",
       "      <td>0</td>\n",
       "      <td>female</td>\n",
       "      <td>S</td>\n",
       "      <td>n1</td>\n",
       "      <td>n2</td>\n",
       "      <td>n0</td>\n",
       "      <td>n1</td>\n",
       "    </tr>\n",
       "  </tbody>\n",
       "</table>\n",
       "</div>"
      ],
      "text/plain": [
       "   pclass  survived     sex embarked sibspX parchX ageX fareX\n",
       "0       1         1  female        S     n0     n0   n0    n1\n",
       "1       1         1    male        S     n1     n2   n1    n1\n",
       "2       1         0  female        S     n1     n2   n1    n1\n",
       "3       1         0    male        S     n1     n2   n0    n1\n",
       "4       1         0  female        S     n1     n2   n0    n1"
      ]
     },
     "execution_count": 38,
     "metadata": {},
     "output_type": "execute_result"
    }
   ],
   "source": [
    "# Mostramos el nuevo conjunto de datos\n",
    "titanic.head()"
   ]
  },
  {
   "cell_type": "code",
   "execution_count": 39,
   "metadata": {
    "collapsed": true
   },
   "outputs": [],
   "source": [
    "# Actualizamos la lista de variables\n",
    "var_target = titanic['survived']\n",
    "var_numericas = []\n",
    "var_categoricas = ['pclass', 'sex', 'embarked', 'sibspX', 'parchX', 'ageX', 'fareX']"
   ]
  },
  {
   "cell_type": "code",
   "execution_count": 40,
   "metadata": {
    "collapsed": false
   },
   "outputs": [
    {
     "name": "stdout",
     "output_type": "stream",
     "text": [
      "*** Tabla de frecuencias para la variable pclass respecto de la variable survived:\n",
      "pclass      1    2    3\n",
      "survived               \n",
      "0         103  146  369\n",
      "1         181  115  131\n",
      "\n",
      "*** Tabla de frecuencias para la variable sex respecto de la variable survived:\n",
      "sex       female  male\n",
      "survived              \n",
      "0             96   522\n",
      "1            292   135\n",
      "\n",
      "*** Tabla de frecuencias para la variable embarked respecto de la variable survived:\n",
      "embarked    C   Q    S\n",
      "survived              \n",
      "0          80  37  501\n",
      "1         132  13  280\n",
      "\n",
      "*** Tabla de frecuencias para la variable sibspX respecto de la variable survived:\n",
      "sibspX     n0   n1  n2  n9\n",
      "survived                  \n",
      "0         439  133  20  26\n",
      "1         261  147  16   3\n",
      "\n",
      "*** Tabla de frecuencias para la variable parchX respecto de la variable survived:\n",
      "parchX     n0   n1  n2  n9\n",
      "survived                  \n",
      "0         497   68  42  11\n",
      "1         270  100  55   2\n",
      "\n",
      "*** Tabla de frecuencias para la variable ageX respecto de la variable survived:\n",
      "ageX       n0  n1\n",
      "survived         \n",
      "0         550  68\n",
      "1         346  81\n",
      "\n",
      "*** Tabla de frecuencias para la variable fareX respecto de la variable survived:\n",
      "fareX      n0   n1\n",
      "survived          \n",
      "0         550   68\n",
      "1         281  146\n",
      "\n"
     ]
    }
   ],
   "source": [
    "# Obtenemos las tablas de frecuencias de las variables categóricas respecto de la variable objetivo (survived)\n",
    "for var in var_categoricas:\n",
    "    print \"*** Tabla de frecuencias para la variable\", var, \"respecto de la variable survived:\"\n",
    "    print pd.crosstab(titanic['survived'], titanic[var])\n",
    "    print"
   ]
  },
  {
   "cell_type": "markdown",
   "metadata": {},
   "source": [
    "## 3.4 Eliminación recursiva de variables"
   ]
  },
  {
   "cell_type": "markdown",
   "metadata": {
    "collapsed": true
   },
   "source": [
    "### Valor informativo (IV)"
   ]
  },
  {
   "cell_type": "markdown",
   "metadata": {},
   "source": [
    "Una vez discretizadas las variables, vamos a analizar la capacidad de clasificacion de cada una de ellas mediante el algoritmo \"Informative Value\", para ver cuales vamos a dejar en el modelo."
   ]
  },
  {
   "cell_type": "code",
   "execution_count": 41,
   "metadata": {
    "collapsed": false
   },
   "outputs": [],
   "source": [
    "from sklearn.linear_model.logistic import LogisticRegression\n",
    "\n",
    "# Creamos una función para mostrar IV de un conjunto de datos\n",
    "def calculateIV(datos, variables, target):\n",
    "\n",
    "    # Iniciamos la variable resultado\n",
    "    result_IV = []\n",
    "\n",
    "    # Realizamos el cálculo para cada variable\n",
    "    for v_cat in variables:\n",
    "        var_target = array(target)\n",
    "        var_values = array(datos[v_cat])\n",
    "        var_levels = unique(var_values)\n",
    "\n",
    "        mat_values = numpy.zeros(shape=(len(var_levels),2))\n",
    "\n",
    "        for i in range(len(var_target)):\n",
    "            # Obtenemos la posición en los niveles del valor\n",
    "            for j in range(len(var_levels)):\n",
    "                if var_levels[j] == var_values[i]:\n",
    "                    pos = j\n",
    "                    break\n",
    "\n",
    "            # Estimamos el número de valores en cada nivel\n",
    "            if var_target[i]:\n",
    "                mat_values[pos][0] += 1\n",
    "            else:\n",
    "                mat_values[pos][1] += 1\n",
    "\n",
    "            # Obtenemos el IV\n",
    "            IV = 0\n",
    "            for j in range(len(var_levels)):\n",
    "                if mat_values[j][0] > 0 and mat_values[j][1] > 0:\n",
    "                    rt = mat_values[j][0] / (mat_values[j][0] + mat_values[j][1])\n",
    "                    rf = mat_values[j][1] / (mat_values[j][0] + mat_values[j][1])\n",
    "                    IV += (rt - rf) * np.log(rt / rf)\n",
    "\n",
    "        # Agregamos el IV al listado\n",
    "        result_IV.append(IV)\n",
    "\n",
    "    # Mostramos los resultados\n",
    "    for i in range(len(var_categoricas)):\n",
    "        print \"La variable\", var_categoricas[i], \"el IV es\", result_IV[i]"
   ]
  },
  {
   "cell_type": "code",
   "execution_count": 43,
   "metadata": {
    "collapsed": false
   },
   "outputs": [
    {
     "name": "stdout",
     "output_type": "stream",
     "text": [
      "La variable pclass el IV es 0.67613129015\n",
      "La variable sex el IV es 1.35855179749\n",
      "La variable embarked el IV es 0.791228338157\n",
      "La variable sibspX el IV es 1.8747155384\n",
      "La variable parchX el IV es 1.47039450695\n",
      "La variable ageX el IV es 0.120787699111\n",
      "La variable fareX el IV es 0.495892766745\n"
     ]
    }
   ],
   "source": [
    "calculateIV(titanic, var_categoricas, var_target)"
   ]
  },
  {
   "cell_type": "markdown",
   "metadata": {},
   "source": [
    "Las variables que tienen poder de clasificacion fuerte tienen un valor por encima de 0.3\n",
    "Las variables que tienen poder de clasificacion muy fuerte tienen un valor por encima de 0.5\n",
    "En este caso vamos a escoger: pclass, sex, embarked, sibspX y parchX"
   ]
  },
  {
   "cell_type": "code",
   "execution_count": 44,
   "metadata": {
    "collapsed": true
   },
   "outputs": [],
   "source": [
    "# Eliminamos las variables deshechadas\n",
    "del titanic['ageX']\n",
    "del titanic['fareX']"
   ]
  },
  {
   "cell_type": "code",
   "execution_count": 45,
   "metadata": {
    "collapsed": false
   },
   "outputs": [
    {
     "data": {
      "text/html": [
       "<div>\n",
       "<table border=\"1\" class=\"dataframe\">\n",
       "  <thead>\n",
       "    <tr style=\"text-align: right;\">\n",
       "      <th></th>\n",
       "      <th>pclass</th>\n",
       "      <th>survived</th>\n",
       "      <th>sex</th>\n",
       "      <th>embarked</th>\n",
       "      <th>sibspX</th>\n",
       "      <th>parchX</th>\n",
       "    </tr>\n",
       "  </thead>\n",
       "  <tbody>\n",
       "    <tr>\n",
       "      <th>0</th>\n",
       "      <td>1</td>\n",
       "      <td>1</td>\n",
       "      <td>female</td>\n",
       "      <td>S</td>\n",
       "      <td>n0</td>\n",
       "      <td>n0</td>\n",
       "    </tr>\n",
       "    <tr>\n",
       "      <th>1</th>\n",
       "      <td>1</td>\n",
       "      <td>1</td>\n",
       "      <td>male</td>\n",
       "      <td>S</td>\n",
       "      <td>n1</td>\n",
       "      <td>n2</td>\n",
       "    </tr>\n",
       "    <tr>\n",
       "      <th>2</th>\n",
       "      <td>1</td>\n",
       "      <td>0</td>\n",
       "      <td>female</td>\n",
       "      <td>S</td>\n",
       "      <td>n1</td>\n",
       "      <td>n2</td>\n",
       "    </tr>\n",
       "    <tr>\n",
       "      <th>3</th>\n",
       "      <td>1</td>\n",
       "      <td>0</td>\n",
       "      <td>male</td>\n",
       "      <td>S</td>\n",
       "      <td>n1</td>\n",
       "      <td>n2</td>\n",
       "    </tr>\n",
       "    <tr>\n",
       "      <th>4</th>\n",
       "      <td>1</td>\n",
       "      <td>0</td>\n",
       "      <td>female</td>\n",
       "      <td>S</td>\n",
       "      <td>n1</td>\n",
       "      <td>n2</td>\n",
       "    </tr>\n",
       "  </tbody>\n",
       "</table>\n",
       "</div>"
      ],
      "text/plain": [
       "   pclass  survived     sex embarked sibspX parchX\n",
       "0       1         1  female        S     n0     n0\n",
       "1       1         1    male        S     n1     n2\n",
       "2       1         0  female        S     n1     n2\n",
       "3       1         0    male        S     n1     n2\n",
       "4       1         0  female        S     n1     n2"
      ]
     },
     "execution_count": 45,
     "metadata": {},
     "output_type": "execute_result"
    }
   ],
   "source": [
    "# Mostramos el nuevo conjunto de datos\n",
    "titanic.head()"
   ]
  },
  {
   "cell_type": "code",
   "execution_count": 46,
   "metadata": {
    "collapsed": true
   },
   "outputs": [],
   "source": [
    "# Actualizamos la lista de variables categoricas\n",
    "var_categoricas = ['pclass', 'sex', 'embarked', 'sibspX', 'parchX']"
   ]
  },
  {
   "cell_type": "markdown",
   "metadata": {},
   "source": [
    "### Dummies"
   ]
  },
  {
   "cell_type": "markdown",
   "metadata": {},
   "source": [
    "Ahora vamos a ver qué aportan las variables para la predicción del modelo."
   ]
  },
  {
   "cell_type": "code",
   "execution_count": 47,
   "metadata": {
    "collapsed": false
   },
   "outputs": [
    {
     "name": "stdout",
     "output_type": "stream",
     "text": [
      "** pclass\n",
      "Precisión: 66.6 %\n",
      "Exactitud: 42.39 %\n",
      "Exhaustividad: 63.73 %\n",
      "** sex\n",
      "Precisión: 77.89 %\n",
      "Exactitud: 68.38 %\n",
      "Exhaustividad: 75.26 %\n",
      "** embarked\n",
      "Precisión: 64.11 %\n",
      "Exactitud: 30.91 %\n",
      "Exhaustividad: 62.26 %\n",
      "** sibspX\n",
      "Precisión: 60.48 %\n",
      "Exactitud: 34.43 %\n",
      "Exhaustividad: 52.5 %\n",
      "** parchX\n",
      "Precisión: 63.44 %\n",
      "Exactitud: 36.3 %\n",
      "Exhaustividad: 58.49 %\n"
     ]
    }
   ],
   "source": [
    "from sklearn.metrics import accuracy_score, auc, confusion_matrix, f1_score, precision_score, recall_score, roc_curve\n",
    "\n",
    "for v_cat in var_categoricas:\n",
    "    dum_var    = pd.get_dummies(titanic[v_cat])\n",
    "    features   = list(dum_var.columns)\n",
    "    features.remove(features[1])\n",
    "    classifier = LogisticRegression().fit(dum_var, var_target)\n",
    "    y_pred     = classifier.predict(dum_var)\n",
    "    \n",
    "    print \"**\", v_cat\n",
    "    print 'Precisión:', round(100 * accuracy_score(y_pred, var_target), 2), '%'\n",
    "    print 'Exactitud:', round(100 * precision_score(y_pred, var_target), 2), '%'\n",
    "    print 'Exhaustividad:', round(100 * recall_score(y_pred, var_target), 2), '%'"
   ]
  },
  {
   "cell_type": "markdown",
   "metadata": {},
   "source": [
    "Todas las variables presentan una precision (porcentaje de aciertos en positivos y negativos) por encima del 50%, por lo que todas ellas son buenas para nuestro modelo. Las variables sex y pclass son las que tienen mayor precisión, las mejores para predecir el modelo."
   ]
  },
  {
   "cell_type": "code",
   "execution_count": 48,
   "metadata": {
    "collapsed": true
   },
   "outputs": [],
   "source": [
    "titanic_org = titanic.copy(deep = True) "
   ]
  },
  {
   "cell_type": "code",
   "execution_count": 49,
   "metadata": {
    "collapsed": false
   },
   "outputs": [
    {
     "data": {
      "text/html": [
       "<div>\n",
       "<table border=\"1\" class=\"dataframe\">\n",
       "  <thead>\n",
       "    <tr style=\"text-align: right;\">\n",
       "      <th></th>\n",
       "      <th>survived</th>\n",
       "      <th>pclass_2</th>\n",
       "      <th>pclass_3</th>\n",
       "      <th>sex_male</th>\n",
       "      <th>embarked_Q</th>\n",
       "      <th>embarked_S</th>\n",
       "      <th>sibspX_n1</th>\n",
       "      <th>sibspX_n2</th>\n",
       "      <th>sibspX_n9</th>\n",
       "      <th>parchX_n1</th>\n",
       "      <th>parchX_n2</th>\n",
       "      <th>parchX_n9</th>\n",
       "    </tr>\n",
       "  </thead>\n",
       "  <tbody>\n",
       "    <tr>\n",
       "      <th>count</th>\n",
       "      <td>1045.000000</td>\n",
       "      <td>1045.000000</td>\n",
       "      <td>1045.000000</td>\n",
       "      <td>1045.000000</td>\n",
       "      <td>1045.000000</td>\n",
       "      <td>1045.000000</td>\n",
       "      <td>1045.000000</td>\n",
       "      <td>1045.000000</td>\n",
       "      <td>1045.000000</td>\n",
       "      <td>1045.000000</td>\n",
       "      <td>1045.000000</td>\n",
       "      <td>1045.000000</td>\n",
       "    </tr>\n",
       "    <tr>\n",
       "      <th>mean</th>\n",
       "      <td>0.408612</td>\n",
       "      <td>0.249761</td>\n",
       "      <td>0.478469</td>\n",
       "      <td>0.628708</td>\n",
       "      <td>0.047847</td>\n",
       "      <td>0.747368</td>\n",
       "      <td>0.267943</td>\n",
       "      <td>0.034450</td>\n",
       "      <td>0.027751</td>\n",
       "      <td>0.160766</td>\n",
       "      <td>0.092823</td>\n",
       "      <td>0.012440</td>\n",
       "    </tr>\n",
       "    <tr>\n",
       "      <th>std</th>\n",
       "      <td>0.491813</td>\n",
       "      <td>0.433082</td>\n",
       "      <td>0.499775</td>\n",
       "      <td>0.483382</td>\n",
       "      <td>0.213544</td>\n",
       "      <td>0.434729</td>\n",
       "      <td>0.443100</td>\n",
       "      <td>0.182469</td>\n",
       "      <td>0.164338</td>\n",
       "      <td>0.367490</td>\n",
       "      <td>0.290323</td>\n",
       "      <td>0.110893</td>\n",
       "    </tr>\n",
       "    <tr>\n",
       "      <th>min</th>\n",
       "      <td>0.000000</td>\n",
       "      <td>0.000000</td>\n",
       "      <td>0.000000</td>\n",
       "      <td>0.000000</td>\n",
       "      <td>0.000000</td>\n",
       "      <td>0.000000</td>\n",
       "      <td>0.000000</td>\n",
       "      <td>0.000000</td>\n",
       "      <td>0.000000</td>\n",
       "      <td>0.000000</td>\n",
       "      <td>0.000000</td>\n",
       "      <td>0.000000</td>\n",
       "    </tr>\n",
       "    <tr>\n",
       "      <th>25%</th>\n",
       "      <td>0.000000</td>\n",
       "      <td>0.000000</td>\n",
       "      <td>0.000000</td>\n",
       "      <td>0.000000</td>\n",
       "      <td>0.000000</td>\n",
       "      <td>0.000000</td>\n",
       "      <td>0.000000</td>\n",
       "      <td>0.000000</td>\n",
       "      <td>0.000000</td>\n",
       "      <td>0.000000</td>\n",
       "      <td>0.000000</td>\n",
       "      <td>0.000000</td>\n",
       "    </tr>\n",
       "    <tr>\n",
       "      <th>50%</th>\n",
       "      <td>0.000000</td>\n",
       "      <td>0.000000</td>\n",
       "      <td>0.000000</td>\n",
       "      <td>1.000000</td>\n",
       "      <td>0.000000</td>\n",
       "      <td>1.000000</td>\n",
       "      <td>0.000000</td>\n",
       "      <td>0.000000</td>\n",
       "      <td>0.000000</td>\n",
       "      <td>0.000000</td>\n",
       "      <td>0.000000</td>\n",
       "      <td>0.000000</td>\n",
       "    </tr>\n",
       "    <tr>\n",
       "      <th>75%</th>\n",
       "      <td>1.000000</td>\n",
       "      <td>0.000000</td>\n",
       "      <td>1.000000</td>\n",
       "      <td>1.000000</td>\n",
       "      <td>0.000000</td>\n",
       "      <td>1.000000</td>\n",
       "      <td>1.000000</td>\n",
       "      <td>0.000000</td>\n",
       "      <td>0.000000</td>\n",
       "      <td>0.000000</td>\n",
       "      <td>0.000000</td>\n",
       "      <td>0.000000</td>\n",
       "    </tr>\n",
       "    <tr>\n",
       "      <th>max</th>\n",
       "      <td>1.000000</td>\n",
       "      <td>1.000000</td>\n",
       "      <td>1.000000</td>\n",
       "      <td>1.000000</td>\n",
       "      <td>1.000000</td>\n",
       "      <td>1.000000</td>\n",
       "      <td>1.000000</td>\n",
       "      <td>1.000000</td>\n",
       "      <td>1.000000</td>\n",
       "      <td>1.000000</td>\n",
       "      <td>1.000000</td>\n",
       "      <td>1.000000</td>\n",
       "    </tr>\n",
       "  </tbody>\n",
       "</table>\n",
       "</div>"
      ],
      "text/plain": [
       "          survived     pclass_2     pclass_3     sex_male   embarked_Q  \\\n",
       "count  1045.000000  1045.000000  1045.000000  1045.000000  1045.000000   \n",
       "mean      0.408612     0.249761     0.478469     0.628708     0.047847   \n",
       "std       0.491813     0.433082     0.499775     0.483382     0.213544   \n",
       "min       0.000000     0.000000     0.000000     0.000000     0.000000   \n",
       "25%       0.000000     0.000000     0.000000     0.000000     0.000000   \n",
       "50%       0.000000     0.000000     0.000000     1.000000     0.000000   \n",
       "75%       1.000000     0.000000     1.000000     1.000000     0.000000   \n",
       "max       1.000000     1.000000     1.000000     1.000000     1.000000   \n",
       "\n",
       "        embarked_S    sibspX_n1    sibspX_n2    sibspX_n9    parchX_n1  \\\n",
       "count  1045.000000  1045.000000  1045.000000  1045.000000  1045.000000   \n",
       "mean      0.747368     0.267943     0.034450     0.027751     0.160766   \n",
       "std       0.434729     0.443100     0.182469     0.164338     0.367490   \n",
       "min       0.000000     0.000000     0.000000     0.000000     0.000000   \n",
       "25%       0.000000     0.000000     0.000000     0.000000     0.000000   \n",
       "50%       1.000000     0.000000     0.000000     0.000000     0.000000   \n",
       "75%       1.000000     1.000000     0.000000     0.000000     0.000000   \n",
       "max       1.000000     1.000000     1.000000     1.000000     1.000000   \n",
       "\n",
       "         parchX_n2    parchX_n9  \n",
       "count  1045.000000  1045.000000  \n",
       "mean      0.092823     0.012440  \n",
       "std       0.290323     0.110893  \n",
       "min       0.000000     0.000000  \n",
       "25%       0.000000     0.000000  \n",
       "50%       0.000000     0.000000  \n",
       "75%       0.000000     0.000000  \n",
       "max       1.000000     1.000000  "
      ]
     },
     "execution_count": 49,
     "metadata": {},
     "output_type": "execute_result"
    }
   ],
   "source": [
    "for column in var_categoricas:\n",
    "    dummie = pd.get_dummies(titanic[column], prefix = column)\n",
    "    names = list(dummie.columns)\n",
    "    names.remove(names[0])\n",
    "    titanic = pd.concat([titanic, dummie[names]], axis = 1)\n",
    "    names = list(titanic.columns)\n",
    "    names.remove(column)\n",
    "    titanic = titanic[names]\n",
    "    \n",
    "titanic.describe()"
   ]
  },
  {
   "cell_type": "code",
   "execution_count": 50,
   "metadata": {
    "collapsed": true
   },
   "outputs": [],
   "source": [
    "# Actualizamos la nueva lista de variables para el modelo\n",
    "var_categoricas = ['pclass_2', 'pclass_3', 'sex_male', 'embarked_Q', 'embarked_S', 'sibspX_n1', 'sibspX_n2', 'sibspX_n9', 'parchX_n1', 'parchX_n2', 'parchX_n9']"
   ]
  },
  {
   "cell_type": "markdown",
   "metadata": {},
   "source": [
    "### Factor de inflación de la varianza (VIF), colinealidad"
   ]
  },
  {
   "cell_type": "markdown",
   "metadata": {},
   "source": [
    "Ahora vamos a ver la colinealidad de las variables. Si alguna es colineal podemos quitarla del modelo."
   ]
  },
  {
   "cell_type": "markdown",
   "metadata": {},
   "source": [
    "Vamos a calcular el valor del VIF para todas las variables menos la objetivo. Realizaremos una regresión lineal de cada una de las variables frente al resto y aplicamos la fórmula del VIF."
   ]
  },
  {
   "cell_type": "code",
   "execution_count": 51,
   "metadata": {
    "collapsed": true
   },
   "outputs": [],
   "source": [
    "from sklearn.linear_model import LinearRegression\n",
    "\n",
    "def calculateVIF(data):\n",
    "    features = list(data.columns)\n",
    "    num_features = len(features)\n",
    "    \n",
    "    model = LinearRegression()\n",
    "    \n",
    "    result = pd.DataFrame(index = ['VIF'], columns = features)\n",
    "    result = result.fillna(0)\n",
    "    \n",
    "    for ite in range(num_features):\n",
    "        x_features = features[:]\n",
    "        y_featue = features[ite]\n",
    "        x_features.remove(y_featue)\n",
    "        \n",
    "        x = data[x_features]\n",
    "        y = data[y_featue]\n",
    "        \n",
    "        model.fit(data[x_features], data[y_featue])\n",
    "        \n",
    "        result[y_featue] = 1/(1 - model.score(data[x_features], data[y_featue]))\n",
    "    \n",
    "    return result\n",
    "\n",
    "def selectDataUsingVIF(data, max_VIF = 5):\n",
    "    result = data.copy(deep = True)\n",
    "    \n",
    "    VIF = calculateVIF(result)\n",
    "    \n",
    "    while VIF.as_matrix().max() > max_VIF:\n",
    "        col_max = np.where(VIF == VIF.as_matrix().max())[1][0]\n",
    "        features = list(result.columns)\n",
    "        features.remove(features[col_max])\n",
    "        result = result[features]\n",
    "        \n",
    "        VIF = calculateVIF(result)\n",
    "        \n",
    "    return result"
   ]
  },
  {
   "cell_type": "code",
   "execution_count": 52,
   "metadata": {
    "collapsed": false
   },
   "outputs": [
    {
     "name": "stdout",
     "output_type": "stream",
     "text": [
      "Número de variables: 11\n"
     ]
    },
    {
     "data": {
      "text/html": [
       "<div>\n",
       "<table border=\"1\" class=\"dataframe\">\n",
       "  <thead>\n",
       "    <tr style=\"text-align: right;\">\n",
       "      <th></th>\n",
       "      <th>pclass_2</th>\n",
       "      <th>pclass_3</th>\n",
       "      <th>sex_male</th>\n",
       "      <th>embarked_Q</th>\n",
       "      <th>embarked_S</th>\n",
       "      <th>sibspX_n1</th>\n",
       "      <th>sibspX_n2</th>\n",
       "      <th>sibspX_n9</th>\n",
       "      <th>parchX_n1</th>\n",
       "      <th>parchX_n2</th>\n",
       "      <th>parchX_n9</th>\n",
       "    </tr>\n",
       "  </thead>\n",
       "  <tbody>\n",
       "    <tr>\n",
       "      <th>VIF</th>\n",
       "      <td>1.629665</td>\n",
       "      <td>1.744888</td>\n",
       "      <td>1.115465</td>\n",
       "      <td>1.304368</td>\n",
       "      <td>1.39721</td>\n",
       "      <td>1.202039</td>\n",
       "      <td>1.036359</td>\n",
       "      <td>1.235872</td>\n",
       "      <td>1.191852</td>\n",
       "      <td>1.244306</td>\n",
       "      <td>1.04746</td>\n",
       "    </tr>\n",
       "  </tbody>\n",
       "</table>\n",
       "</div>"
      ],
      "text/plain": [
       "     pclass_2  pclass_3  sex_male  embarked_Q  embarked_S  sibspX_n1  \\\n",
       "VIF  1.629665  1.744888  1.115465    1.304368     1.39721   1.202039   \n",
       "\n",
       "     sibspX_n2  sibspX_n9  parchX_n1  parchX_n2  parchX_n9  \n",
       "VIF   1.036359   1.235872   1.191852   1.244306    1.04746  "
      ]
     },
     "execution_count": 52,
     "metadata": {},
     "output_type": "execute_result"
    }
   ],
   "source": [
    "print 'Número de variables:', len(var_categoricas)\n",
    "calculateVIF(titanic[var_categoricas])"
   ]
  },
  {
   "cell_type": "markdown",
   "metadata": {},
   "source": [
    "Todas las variables presentan valores por debajo de 5, por lo que no hay que eliminar ninguna variable del modelo. "
   ]
  },
  {
   "cell_type": "markdown",
   "metadata": {},
   "source": [
    "## 3.6 Creación de muestras de entrenamiento y validación"
   ]
  },
  {
   "cell_type": "markdown",
   "metadata": {},
   "source": [
    "Scikit learn contiene una función que permite separar los datos de entrenamiento de los de prueba, automáticamente y de forma aleatoria. El método se llama cross_validation.train_test_split, y permite indicar el porcentaje de muestras que queramos para cada conjunto."
   ]
  },
  {
   "cell_type": "code",
   "execution_count": 53,
   "metadata": {
    "collapsed": false
   },
   "outputs": [
    {
     "name": "stdout",
     "output_type": "stream",
     "text": [
      "(1045, 12) xtrain: (836, 11) xtest (209, 11)\n"
     ]
    }
   ],
   "source": [
    "from sklearn.cross_validation import train_test_split\n",
    "\n",
    "# Obtenemos las muestras de entrenamiento (80%) y prueba (20%)\n",
    "x = titanic[var_categoricas]\n",
    "y = titanic['survived']\n",
    "x_train, x_test, y_train, y_test = train_test_split(x, y, test_size=0.2)\n",
    "print titanic.shape,\"xtrain:\",  x_train.shape, \"xtest\", x_test.shape"
   ]
  },
  {
   "cell_type": "markdown",
   "metadata": {},
   "source": [
    "Tenemos cuatro conjuntos, dos versiones de los datos de las dimensiones que generalmente llamamos features y dos versiones de las clases. Una versión es para entrenar (train) y otra para probar (test). Hemos asignado el 80% de los datos a la versión de entrenamiento, y el 20% restante a la versión de prueba."
   ]
  },
  {
   "cell_type": "markdown",
   "metadata": {},
   "source": [
    "## 3.7 Análisis de variables del modelo"
   ]
  },
  {
   "cell_type": "markdown",
   "metadata": {},
   "source": [
    "Ahora debemos seleccionar, de entre todas las variables candidatas a ser explicativas de la variable dependiente, un subconjunto que resulte suficientemente explicativo. Para ello se suelen utilizar métodos más o menos automáticos, como el método backward, el método forward o el método stepwise.\n",
    "\n",
    "Utilizarenmos las funciones forward_regression y backward_regression creadas más arriba en este mismo notebook."
   ]
  },
  {
   "cell_type": "code",
   "execution_count": 54,
   "metadata": {
    "collapsed": false
   },
   "outputs": [
    {
     "name": "stdout",
     "output_type": "stream",
     "text": [
      "Paso 1 variable sex_male con RMS 0.427273992145\n",
      "Paso 2 variable pclass_3 con RMS 0.411091354853\n",
      "Paso 3 variable pclass_2 con RMS 0.407834991526\n",
      "Paso 4 variable embarked_Q con RMS 0.405730744256\n",
      "Paso 5 variable embarked_S con RMS 0.401888704761\n",
      "Paso 6 variable parchX_n2 con RMS 0.401552442384\n",
      "Paso 7 variable sibspX_n9 con RMS 0.401452769243\n",
      "Paso 8 variable sibspX_n2 con RMS 0.401424564259\n"
     ]
    }
   ],
   "source": [
    "# Aplicamos el método forward\n",
    "forward_regression(x, y)"
   ]
  },
  {
   "cell_type": "code",
   "execution_count": 55,
   "metadata": {
    "collapsed": false
   },
   "outputs": [
    {
     "name": "stdout",
     "output_type": "stream",
     "text": [
      "En el paso 0 se ha eliminado la varible n0 con un error 0.4009250525\n",
      "En el paso 1 se ha eliminado la varible n2 con un error 0.415705727624\n"
     ]
    }
   ],
   "source": [
    "# Aplicamos el método backward\n",
    "backward_regression(x, y)"
   ]
  },
  {
   "cell_type": "code",
   "execution_count": 56,
   "metadata": {
    "collapsed": true
   },
   "outputs": [],
   "source": [
    "# Actualizamos la nueva lista de variables para el modelo\n",
    "var_categoricas = [ 'sex_male', 'pclass_3', 'pclass_2', 'parchX_n2', 'embarked_S' ]"
   ]
  },
  {
   "cell_type": "markdown",
   "metadata": {},
   "source": [
    "## 3.8 Ejecución del modelo"
   ]
  },
  {
   "cell_type": "markdown",
   "metadata": {},
   "source": [
    "Creamos una función para el cálculo de métricas de cada variable"
   ]
  },
  {
   "cell_type": "code",
   "execution_count": 57,
   "metadata": {
    "collapsed": true
   },
   "outputs": [],
   "source": [
    "from sklearn.metrics import accuracy_score, auc, confusion_matrix, f1_score, precision_score, recall_score, roc_curve\n",
    "\n",
    "# Creamos una función para el cálculo de métricas de cada variable\n",
    "def metricas_modelos(y_true, y_pred):\n",
    "    from sklearn.metrics import accuracy_score, auc, confusion_matrix, f1_score, precision_score, recall_score, roc_curve\n",
    "\n",
    "    # Obtención de matriz de confusión\n",
    "    confusion_matrix = confusion_matrix(y_true, y_pred)\n",
    "\n",
    "    print \"La matriz de confusión es \"\n",
    "    print confusion_matrix\n",
    "\n",
    "    print 'Precisión:', accuracy_score(y_true, y_pred) #ha acertado un 68 % de los casos.\n",
    "    print 'Exactitud:', precision_score(y_true, y_pred) #% son verdad de los que he marcado.\n",
    "    print 'Exhaustividad:', recall_score(y_true, y_pred) #% que he detectado como verdad sobre el total de los que son verdad.\n",
    "    print 'F1:', f1_score(y_true, y_pred)\n",
    "\n",
    "    false_positive_rate, recall, thresholds = roc_curve(y_true, y_pred)\n",
    "    roc_auc = auc(false_positive_rate, recall)\n",
    "\n",
    "    print 'AUC:', auc(false_positive_rate, recall)\n",
    "\n",
    "    plot(false_positive_rate, recall, 'b')\n",
    "    plot([0, 1], [0, 1], 'r--')\n",
    "    title('AUC = %0.2f' % roc_auc)"
   ]
  },
  {
   "cell_type": "markdown",
   "metadata": {
    "collapsed": true
   },
   "source": [
    "Obtenemos las muestras de entrenamiento y prueba."
   ]
  },
  {
   "cell_type": "code",
   "execution_count": 58,
   "metadata": {
    "collapsed": false
   },
   "outputs": [
    {
     "name": "stdout",
     "output_type": "stream",
     "text": [
      "(1045, 12) xtrain: (836, 5) xtest (209, 5)\n"
     ]
    }
   ],
   "source": [
    "from sklearn.cross_validation import train_test_split\n",
    "\n",
    "# Obtenemos las muestras de entrenamiento (80%) y prueba (20%)\n",
    "x = titanic[var_categoricas]\n",
    "y = titanic['survived']\n",
    "x_train, x_test, y_train, y_test = train_test_split(x, y, test_size=0.2)\n",
    "print titanic.shape,\"xtrain:\",  x_train.shape, \"xtest\", x_test.shape"
   ]
  },
  {
   "cell_type": "markdown",
   "metadata": {},
   "source": [
    "### Clasificación:\n",
    "\n",
    "En scikit-learn hay tres métodos básicos para clasificación dado un modelo:\n",
    "- **modelo.fit(X, y)**: ajuste de los parámetros del modelo a los datos\n",
    "- **modelo.predict(X)**: predicción de los valores de salida para datos nuevos\n",
    "- **modelo.score(X, y)**: método de evaluación de la predicción"
   ]
  },
  {
   "cell_type": "code",
   "execution_count": 59,
   "metadata": {
    "collapsed": true
   },
   "outputs": [],
   "source": [
    "from sklearn.linear_model.logistic import LogisticRegression\n",
    "\n",
    "# Obtenemos la clasificación\n",
    "classifier = LogisticRegression().fit(x_train, y_train)"
   ]
  },
  {
   "cell_type": "code",
   "execution_count": 60,
   "metadata": {
    "collapsed": false
   },
   "outputs": [
    {
     "name": "stdout",
     "output_type": "stream",
     "text": [
      "La matriz de confusión es \n",
      "[[419  77]\n",
      " [109 231]]\n",
      "Precisión: 0.777511961722\n",
      "Exactitud: 0.75\n",
      "Exhaustividad: 0.679411764706\n",
      "F1: 0.712962962963\n",
      "AUC: 0.762084914611\n"
     ]
    },
    {
     "data": {
      "image/png": "[encoded data removed]",
      "text/plain": [
       "<matplotlib.figure.Figure at 0x7f2c05415210>"
      ]
     },
     "metadata": {},
     "output_type": "display_data"
    }
   ],
   "source": [
    "# Obtenemos la matriz de confusión para el conjunto de datos de entrenamiento\n",
    "y_pred = classifier.predict(x_train)\n",
    "metricas_modelos(y_train, y_pred)"
   ]
  },
  {
   "cell_type": "code",
   "execution_count": 61,
   "metadata": {
    "collapsed": false
   },
   "outputs": [
    {
     "name": "stdout",
     "output_type": "stream",
     "text": [
      "La matriz de confusión es \n",
      "[[103  19]\n",
      " [ 26  61]]\n",
      "Precisión: 0.784688995215\n",
      "Exactitud: 0.7625\n",
      "Exhaustividad: 0.701149425287\n",
      "F1: 0.730538922156\n",
      "AUC: 0.772705860185\n"
     ]
    },
    {
     "data": {
      "image/png": "[encoded data removed]",
      "text/plain": [
       "<matplotlib.figure.Figure at 0x7f2c05acaa90>"
      ]
     },
     "metadata": {},
     "output_type": "display_data"
    }
   ],
   "source": [
    "# Obtenemos la matriz de confusión para el conjunto de datos de prueba\n",
    "y_pred = classifier.predict(x_test)\n",
    "metricas_modelos(y_test, y_pred)"
   ]
  },
  {
   "cell_type": "code",
   "execution_count": 62,
   "metadata": {
    "collapsed": false
   },
   "outputs": [
    {
     "name": "stdout",
     "output_type": "stream",
     "text": [
      "R2 en entrenamiento es:  0.777511961722\n",
      "R2 en validación es:  0.784688995215\n"
     ]
    }
   ],
   "source": [
    "print 'R2 en entrenamiento es: ', classifier.score(x_train, y_train)\n",
    "print 'R2 en validación es: ', classifier.score(x_test, y_test)"
   ]
  },
  {
   "cell_type": "markdown",
   "metadata": {
    "collapsed": true
   },
   "source": [
    "El modelo de los datos de prueba (validación) es algunas décimas mejor que el de entrenamiento."
   ]
  },
  {
   "cell_type": "code",
   "execution_count": 63,
   "metadata": {
    "collapsed": false
   },
   "outputs": [
    {
     "data": {
      "image/png": "[encoded data removed]",
      "text/plain": [
       "<matplotlib.figure.Figure at 0x7f2c053e1810>"
      ]
     },
     "metadata": {},
     "output_type": "display_data"
    }
   ],
   "source": [
    "cm = confusion_matrix(y_test, y_pred)\n",
    "plt.matshow(cm)\n",
    "plt.title('Confusion matrix')\n",
    "plt.colorbar()\n",
    "plt.ylabel('Real')\n",
    "plt.xlabel('Predicted')\n",
    "plt.show()"
   ]
  },
  {
   "cell_type": "markdown",
   "metadata": {},
   "source": [
    "En la matriz de confusion se puede ver que muchos mas acierto (TP) que del resto. El algoritmo acierta muy bien las muertes."
   ]
  },
  {
   "cell_type": "code",
   "execution_count": 64,
   "metadata": {
    "collapsed": false
   },
   "outputs": [
    {
     "data": {
      "text/plain": [
       "array([[-2.36431419, -1.42825459, -0.57183639,  0.17821079, -0.34494156]])"
      ]
     },
     "execution_count": 64,
     "metadata": {},
     "output_type": "execute_result"
    }
   ],
   "source": [
    "classifier.coef_"
   ]
  },
  {
   "cell_type": "markdown",
   "metadata": {},
   "source": [
    "La supervivencia de los pasajeros del Titanic dependió del sexo y de la clase en la que viajaban."
   ]
  },
  {
   "cell_type": "markdown",
   "metadata": {
    "collapsed": true
   },
   "source": [
    "### Algunos enlaces:\n",
    "- [Titanic: Machine Learning from Disaster](https://www.kaggle.com/c/titanic/data)\n",
    "- [Encyclopedia Titanica](https://www.encyclopedia-titanica.org/)\n",
    "- [Selección de variables explicativas en la regresión](https://jjgibaja.wordpress.com/2007/10/23/seleccion-de-variables-explicativas-en-la-regresion/)\n",
    "- [Scikit learn book](http://nbviewer.jupyter.org/github/gmonce/scikit-learn-book/tree/master/)\n",
    "- [Explaining Titanic Hypothesis with Decision Trees](http://nbviewer.jupyter.org/github/gmonce/scikit-learn-book/blob/master/Chapter%202%20-%20Supervised%20learning%20-%20Explaining%20Titanic%20Hypothesis%20with%20Decision%20Trees.ipynb)\n",
    "- [Introducción a scikit-learn](http://linuxec.es/grupo-python/sklearn/#)"
   ]
  },
  {
   "cell_type": "code",
   "execution_count": null,
   "metadata": {
    "collapsed": true
   },
   "outputs": [],
   "source": []
  }
 ],
 "metadata": {
  "kernelspec": {
   "display_name": "Python 2",
   "language": "python",
   "name": "python2"
  },
  "language_info": {
   "codemirror_mode": {
    "name": "ipython",
    "version": 2
   },
   "file_extension": ".py",
   "mimetype": "text/x-python",
   "name": "python",
   "nbconvert_exporter": "python",
   "pygments_lexer": "ipython2",
   "version": "2.7.11"
  }
 },
 "nbformat": 4,
 "nbformat_minor": 0
}
